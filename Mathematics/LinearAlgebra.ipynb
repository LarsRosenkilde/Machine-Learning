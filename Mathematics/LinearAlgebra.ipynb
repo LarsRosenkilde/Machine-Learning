{
 "cells": [
  {
   "cell_type": "markdown",
   "metadata": {},
   "source": [
    "# Vectors\n"
   ]
  },
  {
   "cell_type": "code",
   "execution_count": 13,
   "metadata": {},
   "outputs": [
    {
     "data": {
      "text/plain": [
       "[<matplotlib.lines.Line2D at 0x1ddf073a110>]"
      ]
     },
     "execution_count": 13,
     "metadata": {},
     "output_type": "execute_result"
    },
    {
     "data": {
      "image/png": "[encoded data removed]",
      "text/plain": [
       "<Figure size 360x360 with 1 Axes>"
      ]
     },
     "metadata": {
      "needs_background": "light"
     },
     "output_type": "display_data"
    }
   ],
   "source": [
    "import numpy as np\n",
    "import matplotlib.pyplot as plt\n",
    "from adjustText import adjust_text\n",
    "\n",
    "# Points on coordinatesystem\n",
    "origin = [0, 0] # Center\n",
    "color = \"red\"\n",
    "vector_xy, vector_xytext = (0, 0), (-4, 2)\n",
    "\n",
    "# Set length of axes and the space between tick labels\n",
    "x_min, x_max, y_min, y_max = -5, 5, -5, 5\n",
    "ticks_freq = 1\n",
    "# Plot point\n",
    "fig, ax = plt.subplots(figsize=(5, 5))\n",
    "ax.scatter(origin[0], origin[1], c=color)\n",
    "ax.annotate(\"Origin\", xy=(0.5, 0.5), xytext=(2, 2), bbox=dict(boxstyle='round,pad=0.2', fc='yellow', alpha=0.3), arrowprops=dict(arrowstyle=\"->\"))\n",
    "ax.annotate(\"\", xy=vector_xytext, xytext=vector_xy, arrowprops=dict(arrowstyle=\"->\"), c=color)\n",
    "ax.annotate(\"[-4, 2]\", xy=(-4.5, 2.5), xytext=(-4.5, 2.5), bbox=dict(boxstyle='round,pad=0.2', fc='yellow', alpha=0.3))\n",
    "# Set identical scales for both axes\n",
    "ax.set(xlim=(x_min-1, x_max+1), ylim=(y_min-1, y_max+1), aspect=\"equal\")\n",
    "# Set bottom and left spines as x and y axes of coordinate system\n",
    "ax.spines[\"bottom\"].set_position(\"zero\")\n",
    "ax.spines[\"left\"].set_position(\"zero\")\n",
    "# Remode top and right spines\n",
    "ax.spines[\"top\"].set_visible(False)\n",
    "ax.spines[\"right\"].set_visible(False)\n",
    "# Set \"x\" and \"y\" labels placed at the end of axes\n",
    "ax.set_xlabel('x', size=14, labelpad=-24, x=1.03)\n",
    "ax.set_ylabel('y', size=14, labelpad=-21, y=1.02, rotation=0)\n",
    "# Create custom major ticks to determine position of tick labels\n",
    "x_ticks = np.arange(x_min, x_max+1, ticks_freq)\n",
    "y_ticks = np.arange(y_min, y_max+1, ticks_freq)\n",
    "ax.set_xticks(x_ticks[x_ticks != 0])\n",
    "ax.set_yticks(y_ticks[y_ticks != 0])\n",
    "# Create minor ticks placed at each integer to enable drawing of minor grid\n",
    "# lines: note that this has no effect in this example with ticks_frequency=1\n",
    "ax.set_xticks(np.arange(x_min, x_max+1), minor=True)\n",
    "ax.set_yticks(np.arange(y_min, y_max+1), minor=True)\n",
    "# Draw major and minor grid lines\n",
    "ax.grid(which='both', color='grey', linewidth=1, linestyle='-', alpha=0.2)\n",
    "# Draw arrows\n",
    "arrow_fmt = dict(markersize=4, color='black', clip_on=False)\n",
    "ax.plot((1), (0), marker='>', transform=ax.get_yaxis_transform(), **arrow_fmt)\n",
    "ax.plot((0), (1), marker='^', transform=ax.get_xaxis_transform(), **arrow_fmt)\n"
   ]
  },
  {
   "cell_type": "markdown",
   "metadata": {},
   "source": []
  }
 ],
 "metadata": {
  "interpreter": {
   "hash": "1aad91322e9f4b1bca8b3144bcf5b08e5cbaa8e2651c1f57f28c5e4d868b523d"
  },
  "kernelspec": {
   "display_name": "Python 3.10.0 64-bit ('ml_env': venv)",
   "language": "python",
   "name": "python3"
  },
  "language_info": {
   "codemirror_mode": {
    "name": "ipython",
    "version": 3
   },
   "file_extension": ".py",
   "mimetype": "text/x-python",
   "name": "python",
   "nbconvert_exporter": "python",
   "pygments_lexer": "ipython3",
   "version": "3.9.7"
  },
  "orig_nbformat": 4
 },
 "nbformat": 4,
 "nbformat_minor": 2
}
