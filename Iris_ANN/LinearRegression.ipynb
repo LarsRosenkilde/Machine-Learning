{
 "cells": [
  {
   "cell_type": "code",
   "execution_count": 1,
   "metadata": {},
   "outputs": [],
   "source": [
    "import sklearn\n",
    "import numpy as np\n",
    "import pandas as pd\n",
    "from sklearn import linear_model\n",
    "from sklearn.utils import shuffle"
   ]
  },
  {
   "cell_type": "code",
   "execution_count": 2,
   "metadata": {},
   "outputs": [],
   "source": [
    "dataset = pd.read_csv(\"student-mat.csv\", sep=\";\")\n",
    "data = dataset[[\"G1\", \"G2\", \"G3\", \"studytime\", \"failures\", \"absences\"]]\n",
    "predict = \"G3\""
   ]
  },
  {
   "cell_type": "code",
   "execution_count": 6,
   "metadata": {},
   "outputs": [
    {
     "name": "stderr",
     "output_type": "stream",
     "text": [
      "<ipython-input-6-925add5b40a5>:1: FutureWarning: In a future version of pandas all arguments of DataFrame.drop except for the argument 'labels' will be keyword-only\n",
      "  X = np.array(data.drop([predict], 1))   # Attributes\n"
     ]
    }
   ],
   "source": [
    "X = np.array(data.drop([predict], 1))   # Attributes\n",
    "y = np.array(data[predict])             # Labels\n",
    "\n",
    "# Split dataset in 4 arrays & test on 10% of the data\n",
    "x_train, x_test, y_train, y_test = sklearn.model_selection.train_test_split(X, y, test_size=0.1)\n"
   ]
  },
  {
   "cell_type": "code",
   "execution_count": 13,
   "metadata": {},
   "outputs": [
    {
     "name": "stdout",
     "output_type": "stream",
     "text": [
      "Accuracy:     89.04%\n",
      "Coefficients: [ 0.16581892  0.97443843 -0.21941947 -0.25701412  0.04294172]\n",
      "Intercept:    -1.5711420126671758\n"
     ]
    }
   ],
   "source": [
    "linear = linear_model.LinearRegression()\n",
    "linear.fit(x_train, y_train)\n",
    "acc = linear.score(x_test, y_test)  # Accuracy of model\n",
    "\n",
    "print(f\"Accuracy:     {round(acc * 100, 2)}%\")\n",
    "print(f\"Coefficients: {linear.coef_}\")\n",
    "print(f\"Intercept:    {linear.intercept_}\")"
   ]
  },
  {
   "cell_type": "code",
   "execution_count": 19,
   "metadata": {},
   "outputs": [
    {
     "name": "stdout",
     "output_type": "stream",
     "text": [
      "True Label: 18.766353794399443\t Prediction: 18\n",
      "True Label: 13.826141197664256\t Prediction: 11\n",
      "True Label: 8.092552392291887\t Prediction: 9\n",
      "True Label: 11.67310730681954\t Prediction: 11\n",
      "True Label: 10.624681341007658\t Prediction: 11\n",
      "True Label: 12.188407932415142\t Prediction: 11\n",
      "True Label: 18.99172121116426\t Prediction: 18\n",
      "True Label: 11.6467723616496\t Prediction: 12\n",
      "True Label: 8.418154168332466\t Prediction: 9\n",
      "True Label: 4.02889162643424\t Prediction: 6\n",
      "True Label: 10.86448780121634\t Prediction: 10\n",
      "True Label: 7.19796132732205\t Prediction: 8\n",
      "True Label: 9.152786138062478\t Prediction: 10\n",
      "True Label: 12.8635795314832\t Prediction: 13\n",
      "True Label: 12.091264782637815\t Prediction: 12\n",
      "True Label: 18.46105089089839\t Prediction: 19\n",
      "True Label: 8.284618140029952\t Prediction: 9\n",
      "True Label: 15.093879369642108\t Prediction: 15\n",
      "True Label: 8.815288460295818\t Prediction: 10\n",
      "True Label: 9.318605062397973\t Prediction: 10\n",
      "True Label: 9.17912108323242\t Prediction: 10\n",
      "True Label: 8.729405022696552\t Prediction: 10\n",
      "True Label: 14.84812495857039\t Prediction: 16\n",
      "True Label: 7.020917990945099\t Prediction: 7\n",
      "True Label: 14.880407854603371\t Prediction: 16\n",
      "True Label: 10.75290560799515\t Prediction: 10\n",
      "True Label: 12.134719269081488\t Prediction: 13\n",
      "True Label: 10.121364738905504\t Prediction: 10\n",
      "True Label: 13.050627979584629\t Prediction: 12\n",
      "True Label: 15.426754297272522\t Prediction: 16\n",
      "True Label: 11.936705570480383\t Prediction: 13\n",
      "True Label: 10.704616827743884\t Prediction: 11\n",
      "True Label: 8.172399757260743\t Prediction: 10\n",
      "True Label: 9.510758931903409\t Prediction: 11\n",
      "True Label: 14.007222556934204\t Prediction: 14\n",
      "True Label: 12.395931496590844\t Prediction: 11\n",
      "True Label: 5.704748478843564\t Prediction: 6\n",
      "True Label: 11.171027783676813\t Prediction: 11\n",
      "True Label: 12.540344653625665\t Prediction: 14\n",
      "True Label: 13.542136801728073\t Prediction: 13\n"
     ]
    }
   ],
   "source": [
    "predictions = linear.predict(x_test)\n",
    "for i, true_label in enumerate(predictions):\n",
    "    print(f\"True Label: {true_label}\\t Prediction: {y_test[i]}\")\n"
   ]
  },
  {
   "cell_type": "code",
   "execution_count": null,
   "metadata": {},
   "outputs": [],
   "source": []
  }
 ],
 "metadata": {
  "interpreter": {
   "hash": "5826022c13cf670f25f82c54601002af42321e6e77593e3891ed52ffe2de205c"
  },
  "kernelspec": {
   "display_name": "Python 3.8.1 64-bit ('azureml_py38_tensorflow': conda)",
   "language": "python",
   "name": "python3"
  },
  "language_info": {
   "codemirror_mode": {
    "name": "ipython",
    "version": 3
   },
   "file_extension": ".py",
   "mimetype": "text/x-python",
   "name": "python",
   "nbconvert_exporter": "python",
   "pygments_lexer": "ipython3",
   "version": "3.8.1"
  },
  "orig_nbformat": 4
 },
 "nbformat": 4,
 "nbformat_minor": 2
}
