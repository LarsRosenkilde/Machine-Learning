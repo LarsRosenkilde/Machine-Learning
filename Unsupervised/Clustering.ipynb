{
 "cells": [
  {
   "cell_type": "code",
   "execution_count": null,
   "metadata": {},
   "outputs": [],
   "source": [
    "%matplotlib inline\n",
    "\n",
    "import numpy as np\n",
    "import matplotlib.pyplot as plt\n",
    "from sklearn import datasets\n",
    "from sklearn.cluster import k_means\n",
    "from sklearn.metrics import accuracy_score\n",
    "from sklearn.pipeline import make_pipeline\n",
    "from sklearn.preprocessing import StandardScaler\n",
    "from sklearn.model_selection import train_test_split\n",
    "\n",
    "dataset = datasets.load_wine()\n",
    "\n",
    "X = dataset.data\n",
    "y = dataset.target\n",
    "features = dataset.data.T"
   ]
  },
  {
   "cell_type": "code",
   "execution_count": null,
   "metadata": {},
   "outputs": [],
   "source": [
    "class K_Means(object):\n",
    "    \"\"\" Partitional clustering for wine dataset \"\"\"\n",
    "    def __init__(self, dataset, X, y, n_iter=45):\n",
    "        self.X = X\n",
    "        self.y = y\n",
    "        self.dataset = dataset\n",
    "        self.n_iter = n_iter\n",
    "        \n",
    "        self.classes = list(dataset.feature_names)\n",
    "        self.model = SVC(kernel=\"linear\", C=3)\n",
    "        self.results = []\n",
    "        self.predictions = []\n",
    "        self.misclassifications = 0\n",
    "        \n",
    "        self.train_model()\n",
    "    \n",
    "    def train_model(self):\n",
    "        self.results.append(\"Prediction:\\t\\tActual:\\t\\t\\tAccuracy:\")\n",
    "        for i in range(self.n_iter):\n",
    "            X_train, X_test, y_train, y_test = train_test_split(self.X, self.y, test_size=0.3)        \n",
    "            self.model.fit(X_train, y_train)\n",
    "\n",
    "            pred = self.model.predict(X_test)\n",
    "            if self.classes[pred[i]] != self.classes[y_test[i]]:\n",
    "                self.misclassifications += 1\n",
    "                \n",
    "            acc = round(accuracy_score(y_test, pred) * 100, 2)\n",
    "            self.predictions.append(acc)\n",
    "            \n",
    "            self.results.append(f\"{self.classes[pred[i]].ljust(10)}\\t\\t{self.classes[y_test[i]].ljust(10)}\\t\\t{acc}%\")\n",
    "\n",
    "    def average_accuracy(self):\n",
    "        self.predictions = sorted(self.predictions)\n",
    "        scaled_data = self.predictions[5:-5]\n",
    "        return round(sum(scaled_data) / len(scaled_data), 2)\n",
    "        \n",
    "    \n",
    "if __name__ == \"__main__\":\n",
    "    model = SupportVectorClassifier(dataset, X, y)\n",
    "    [print(res) for res in model.results]\n",
    "    print(f\"Average Accuracy: {model.average_accuracy()}%\")\n",
    "    print(f\"Misclassifications: {model.misclassifications} out of {model.n_iter} examples\")"
   ]
  }
 ],
 "metadata": {
  "language_info": {
   "name": "python"
  },
  "orig_nbformat": 4
 },
 "nbformat": 4,
 "nbformat_minor": 2
}
