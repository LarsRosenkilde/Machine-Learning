{
 "cells": [
  {
   "cell_type": "code",
   "execution_count": null,
   "metadata": {},
   "outputs": [],
   "source": [
    "x, y, z = features[:3]\n",
    "x_n = np.vstack((x, y, z)).T\n",
    "\n",
    "kmeans = KMeans(n_clusters=3)\n",
    "kmeans.fit(x_n)\n",
    "\n",
    "centroids = kmeans.cluster_centers_\n",
    "labels = kmeans.labels_\n",
    "print(features)\n",
    "\n",
    "colors = (\"r.\", \"g.\", \"b.\")\n",
    "\n",
    "fix, ax = plt.subplots()\n",
    "\n",
    "for i in range(len(x_n)):\n",
    "    ax.plot(x_n[i][0], x_n[i][1], colors[labels[i]], markersize=10)\n",
    "\n",
    "ax.scatter(centroids[:, 0], centroids[:, 1], marker=\"x\", s=150, linewidth=5, zorder=10, color=\"black\")"
   ]
  }
 ],
 "metadata": {
  "language_info": {
   "name": "python"
  },
  "orig_nbformat": 4
 },
 "nbformat": 4,
 "nbformat_minor": 2
}
