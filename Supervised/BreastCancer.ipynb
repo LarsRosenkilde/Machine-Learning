{
 "cells": [
  {
   "cell_type": "code",
   "execution_count": 204,
   "metadata": {},
   "outputs": [],
   "source": [
    "%matplotlib inline\n",
    "\n",
    "import numpy as np\n",
    "import pandas as pd\n",
    "import matplotlib.pyplot as plt\n",
    "from sklearn.metrics import accuracy_score\n",
    "from sklearn.linear_model import Perceptron\n",
    "from sklearn import datasets, model_selection\n",
    "from sklearn.preprocessing import StandardScaler\n",
    "from sklearn.model_selection import train_test_split"
   ]
  },
  {
   "cell_type": "code",
   "execution_count": 205,
   "metadata": {},
   "outputs": [],
   "source": [
    "breast = datasets.load_breast_cancer()\n",
    "\n",
    "X = breast.data\n",
    "y = breast.target"
   ]
  },
  {
   "cell_type": "code",
   "execution_count": 206,
   "metadata": {},
   "outputs": [
    {
     "name": "stdout",
     "output_type": "stream",
     "text": [
      "Prediction:\tbenign    \tActual: benign    \t\tAccuracy: 89.47%\n",
      "Prediction:\tbenign    \tActual: benign    \t\tAccuracy: 92.98%\n",
      "Prediction:\tmalignant \tActual: malignant \t\tAccuracy: 85.96%\n",
      "Prediction:\tbenign    \tActual: benign    \t\tAccuracy: 91.23%\n",
      "Prediction:\tmalignant \tActual: malignant \t\tAccuracy: 89.47%\n",
      "Prediction:\tbenign    \tActual: benign    \t\tAccuracy: 66.67%\n",
      "Prediction:\tmalignant \tActual: malignant \t\tAccuracy: 85.96%\n",
      "Prediction:\tbenign    \tActual: benign    \t\tAccuracy: 87.72%\n",
      "Prediction:\tbenign    \tActual: benign    \t\tAccuracy: 71.93%\n",
      "Prediction:\tbenign    \tActual: benign    \t\tAccuracy: 91.23%\n",
      "Prediction:\tbenign    \tActual: malignant \t\tAccuracy: 92.98%\n",
      "Prediction:\tbenign    \tActual: benign    \t\tAccuracy: 89.47%\n",
      "Prediction:\tbenign    \tActual: malignant \t\tAccuracy: 91.23%\n",
      "Prediction:\tmalignant \tActual: benign    \t\tAccuracy: 64.91%\n",
      "Prediction:\tmalignant \tActual: malignant \t\tAccuracy: 70.18%\n",
      "Prediction:\tmalignant \tActual: malignant \t\tAccuracy: 85.96%\n",
      "Prediction:\tmalignant \tActual: benign    \t\tAccuracy: 70.18%\n",
      "Prediction:\tmalignant \tActual: benign    \t\tAccuracy: 87.72%\n",
      "Prediction:\tmalignant \tActual: malignant \t\tAccuracy: 59.65%\n",
      "Prediction:\tmalignant \tActual: malignant \t\tAccuracy: 64.91%\n",
      "Prediction:\tbenign    \tActual: benign    \t\tAccuracy: 87.72%\n",
      "Prediction:\tbenign    \tActual: benign    \t\tAccuracy: 75.44%\n",
      "Prediction:\tbenign    \tActual: benign    \t\tAccuracy: 73.68%\n",
      "Prediction:\tmalignant \tActual: malignant \t\tAccuracy: 89.47%\n",
      "Prediction:\tbenign    \tActual: malignant \t\tAccuracy: 84.21%\n",
      "Prediction:\tmalignant \tActual: malignant \t\tAccuracy: 89.47%\n",
      "Prediction:\tbenign    \tActual: benign    \t\tAccuracy: 89.47%\n",
      "Prediction:\tbenign    \tActual: benign    \t\tAccuracy: 91.23%\n",
      "Prediction:\tmalignant \tActual: benign    \t\tAccuracy: 57.89%\n",
      "Prediction:\tmalignant \tActual: malignant \t\tAccuracy: 87.72%\n",
      "Prediction:\tbenign    \tActual: benign    \t\tAccuracy: 87.72%\n",
      "Prediction:\tbenign    \tActual: benign    \t\tAccuracy: 91.23%\n",
      "Prediction:\tbenign    \tActual: benign    \t\tAccuracy: 96.49%\n",
      "Prediction:\tmalignant \tActual: malignant \t\tAccuracy: 89.47%\n",
      "Prediction:\tmalignant \tActual: malignant \t\tAccuracy: 92.98%\n",
      "Prediction:\tbenign    \tActual: benign    \t\tAccuracy: 91.23%\n",
      "Prediction:\tbenign    \tActual: benign    \t\tAccuracy: 84.21%\n",
      "Prediction:\tmalignant \tActual: malignant \t\tAccuracy: 89.47%\n",
      "Prediction:\tbenign    \tActual: benign    \t\tAccuracy: 84.21%\n",
      "Prediction:\tbenign    \tActual: benign    \t\tAccuracy: 92.98%\n",
      "Prediction:\tmalignant \tActual: benign    \t\tAccuracy: 94.74%\n",
      "Prediction:\tmalignant \tActual: benign    \t\tAccuracy: 84.21%\n",
      "Prediction:\tmalignant \tActual: malignant \t\tAccuracy: 87.72%\n",
      "Prediction:\tbenign    \tActual: benign    \t\tAccuracy: 87.72%\n",
      "Prediction:\tbenign    \tActual: benign    \t\tAccuracy: 92.98%\n",
      "Prediction:\tbenign    \tActual: benign    \t\tAccuracy: 92.98%\n",
      "Prediction:\tmalignant \tActual: malignant \t\tAccuracy: 92.98%\n",
      "Prediction:\tmalignant \tActual: malignant \t\tAccuracy: 94.74%\n",
      "Prediction:\tbenign    \tActual: benign    \t\tAccuracy: 92.98%\n",
      "Prediction:\tmalignant \tActual: malignant \t\tAccuracy: 77.19%\n",
      "\n",
      "Average Accuracy: 0.85%\n",
      "Misclassifications: 9\n"
     ]
    }
   ],
   "source": [
    "acc_list = []\n",
    "misclassifications = 0\n",
    "tumor_type = list(breast.target_names)\n",
    "\n",
    "for i in range(50):\n",
    "    X_train, X_test, y_train, y_test = train_test_split(X, y, test_size=0.1)\n",
    "\n",
    "    model = Perceptron(eta0=0.01, random_state=1)\n",
    "    model.fit(X_train, y_train)\n",
    "\n",
    "    cur_acc = model.score(X_test, y_test)\n",
    "    acc_list.append(cur_acc)\n",
    "    \n",
    "    prediction = model.predict(X_test)\n",
    "    if tumor_type[prediction[i]] != tumor_type[y_test[i]]:\n",
    "        misclassifications += 1\n",
    "\n",
    "    print(f\"Prediction:\\t{tumor_type[prediction[i]].ljust(10)}\"\\\n",
    "          f\"\\tActual: {tumor_type[y_test[i]].ljust(10)}\"\\\n",
    "          f\"\\tAccuracy: {str(round(cur_acc * 100, 2)).ljust(5)}%\")\n",
    "\n",
    "avg_acc = round(sum(acc_list) / len(acc_list), 2)\n",
    "print(f\"\\nAverage Accuracy: {avg_acc}%\")\n",
    "print(f\"Misclassifications: {misclassifications}\")"
   ]
  },
  {
   "cell_type": "code",
   "execution_count": 207,
   "metadata": {},
   "outputs": [],
   "source": [
    "from matplotlib.colors import ListedColormap\n",
    "\n",
    "def plot_decision_regions(X, y, classifier, test_idx=None, resolution=0.02):\n",
    "    # Setup marker generator and color map\n",
    "    markers = (\"s\", \"x\", \"o\", \"^\", \"v\")\n",
    "    colors = (\"red\", \"blue\", \"lightgreen\", \"gray\", \"cyan\")\n",
    "    cmap = ListedColormap(colors[:len(np.unique(y))])\n",
    "\n",
    "    # Plot decision surface\n",
    "    x1_min, x1_max = X[:, 0].min() - 1, X[:, 0].max() + 1\n",
    "    x2_min, x2_max = X[:, 0].min() - 1, X[:, 0].max() + 1\n",
    "    xx1, xx2 = np.meshgrid(np.arange(x1_min, x1_max, resolution), np.arange(x2_min, x2_max, resolution))\n",
    "    Z = classifier.predict(np.array([xx1.ravel(), xx2.ravel()]).T)\n",
    "    Z = Z.reshape(xx1.shape)\n",
    "    plt.contourf(xx1, xx2, Z, alpha=0.3, cmap=cmap)\n",
    "    plt.xlim(xx1.min(), xx1.max())\n",
    "    plt.ylim(xx2.min(), xx2.max())\n",
    "\n",
    "    for index, lbl in enumerate(np.unique(y)):\n",
    "        plt.scatter(x=X[y == lbl, 0], y=X[y == lbl, 1], alpha=0.8, \n",
    "            c=colors[index], marker=markers[index], label=lbl, \n",
    "            edgecolor=\"black\")\n",
    "    \n",
    "    # Highlight test examples\n",
    "    if test_idx:\n",
    "        # Plot all examples\n",
    "        X_test, y_test = X[test_idx, :], y[test_idx]\n",
    "\n",
    "        plt.scatter(X_test[:, 0], X_test[:, 1], c=\"black\", edgecolor=\"black\", \n",
    "            alpha=1.0, linewidth=1, marker=\"o\", s=25, label=\"test set\")"
   ]
  }
 ],
 "metadata": {
  "interpreter": {
   "hash": "1aad91322e9f4b1bca8b3144bcf5b08e5cbaa8e2651c1f57f28c5e4d868b523d"
  },
  "kernelspec": {
   "display_name": "Python 3.10.0 64-bit ('ml_env': venv)",
   "language": "python",
   "name": "python3"
  },
  "language_info": {
   "codemirror_mode": {
    "name": "ipython",
    "version": 3
   },
   "file_extension": ".py",
   "mimetype": "text/x-python",
   "name": "python",
   "nbconvert_exporter": "python",
   "pygments_lexer": "ipython3",
   "version": "3.9.7"
  },
  "orig_nbformat": 4
 },
 "nbformat": 4,
 "nbformat_minor": 2
}
