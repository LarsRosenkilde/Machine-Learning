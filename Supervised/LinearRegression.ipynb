{
 "cells": [
  {
   "cell_type": "code",
   "execution_count": null,
   "metadata": {},
   "outputs": [],
   "source": [
    "import sklearn\n",
    "import numpy as np\n",
    "import pandas as pd\n",
    "import matplotlib as plt\n",
    "from sklearn import linear_model"
   ]
  },
  {
   "cell_type": "code",
   "execution_count": null,
   "metadata": {},
   "outputs": [],
   "source": [
    "dataset = pd.read_csv(\"student-mat.csv\", sep=\";\")\n",
    "data = dataset[[\"G1\", \"G2\", \"G3\", \"studytime\", \"failures\", \"absences\"]]\n",
    "predict = \"G3\""
   ]
  },
  {
   "cell_type": "code",
   "execution_count": null,
   "metadata": {},
   "outputs": [],
   "source": [
    "X = np.array(data.drop([predict], 1))   # Attributes\n",
    "y = np.array(data[predict])             # Labels\n",
    "\n",
    "# Split dataset in 4 arrays & test on 10% of the data\n",
    "x_train, x_test, y_train, y_test = sklearn.model_selection.train_test_split(X, y, test_size=0.1)\n"
   ]
  },
  {
   "cell_type": "code",
   "execution_count": null,
   "metadata": {},
   "outputs": [],
   "source": [
    "linear = linear_model.LinearRegression()\n",
    "linear.fit(x_train, y_train)\n",
    "acc = linear.score(x_test, y_test)  # Accuracy of model\n",
    "\n",
    "print(f\"Accuracy:     {round(acc * 100, 2)}%\")\n",
    "print(f\"Coefficients: {linear.coef_}\")\n",
    "print(f\"Intercept:    {linear.intercept_}\")"
   ]
  },
  {
   "cell_type": "code",
   "execution_count": null,
   "metadata": {},
   "outputs": [],
   "source": [
    "predictions = linear.predict(x_test)\n",
    "for i, true_label in enumerate(predictions):\n",
    "    print(f\"True Label: {true_label}\\t Prediction: {y_test[i]}\")\n"
   ]
  },
  {
   "cell_type": "code",
   "execution_count": null,
   "metadata": {},
   "outputs": [],
   "source": [
    "best = 0\n",
    "worst = 100\n",
    "average = 0\n",
    "\n",
    "for _ in range(100):\n",
    "    x_train, x_test, y_train, y_test = sklearn.model_selection.train_test_split(X, y, test_size=0.1)\n",
    "    training_model = linear_model.LinearRegression()\n",
    "    accuracy = linear.score(x_test, y_test)\n",
    "    if accuracy > best:\n",
    "        best = accuracy\n",
    "\n",
    "predictions = training_model.predict(x_test)\n",
    "for i in range(10):\n",
    "    print(f\"Parameters: {x_test[i]} \\t Prediction: {predictions[i]} \\t True Label: {y_test[i]}\")\n"
   ]
  },
  {
   "cell_type": "code",
   "execution_count": null,
   "metadata": {},
   "outputs": [],
   "source": [
    "plt.title(\"Linear Regression\")\n",
    "plt.statter(data[\"G1\"], data[\"G3\"])\n",
    "plt.xlabel(\"True Label\")\n",
    "plt.ylabel(\"Prediction\")"
   ]
  }
 ],
 "metadata": {
  "interpreter": {
   "hash": "5826022c13cf670f25f82c54601002af42321e6e77593e3891ed52ffe2de205c"
  },
  "kernelspec": {
   "display_name": "Python 3.8.1 64-bit ('azureml_py38_tensorflow': conda)",
   "language": "python",
   "name": "python3"
  },
  "language_info": {
   "codemirror_mode": {
    "name": "ipython",
    "version": 3
   },
   "file_extension": ".py",
   "mimetype": "text/x-python",
   "name": "python",
   "nbconvert_exporter": "python",
   "pygments_lexer": "ipython3",
   "version": "3.8.1"
  },
  "orig_nbformat": 4
 },
 "nbformat": 4,
 "nbformat_minor": 2
}
