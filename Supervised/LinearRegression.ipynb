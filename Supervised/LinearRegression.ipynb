{
 "cells": [
  {
   "cell_type": "code",
   "execution_count": 57,
   "metadata": {},
   "outputs": [],
   "source": [
    "%matplotlib inline\n",
    "\n",
    "import sklearn\n",
    "import numpy as np\n",
    "import pandas as pd\n",
    "import matplotlib.pyplot as plt\n",
    "from sklearn import linear_model\n",
    "\n",
    "plt.style.use(\"ggplot\")"
   ]
  },
  {
   "cell_type": "code",
   "execution_count": 58,
   "metadata": {},
   "outputs": [],
   "source": [
    "dataset = pd.read_csv(\"student-mat.csv\", sep=\";\")\n",
    "data = dataset[[\"G1\", \"G2\", \"G3\", \"studytime\", \"failures\", \"absences\"]]\n",
    "predict = \"G3\""
   ]
  },
  {
   "cell_type": "code",
   "execution_count": 59,
   "metadata": {},
   "outputs": [
    {
     "name": "stderr",
     "output_type": "stream",
     "text": [
      "C:\\Users\\lars29i0\\AppData\\Local\\Temp/ipykernel_16652/4262250817.py:1: FutureWarning: In a future version of pandas all arguments of DataFrame.drop except for the argument 'labels' will be keyword-only\n",
      "  X = np.array(data.drop([predict], 1))   # Attributes\n"
     ]
    }
   ],
   "source": [
    "X = np.array(data.drop([predict], 1))   # Attributes\n",
    "y = np.array(data[predict])             # Labels\n",
    "\n",
    "# Split dataset in 4 arrays & test on 10% of the data\n",
    "x_train, x_test, y_train, y_test = sklearn.model_selection.train_test_split(X, y, test_size=0.1)\n"
   ]
  },
  {
   "cell_type": "code",
   "execution_count": 60,
   "metadata": {},
   "outputs": [
    {
     "name": "stdout",
     "output_type": "stream",
     "text": [
      "Accuracy:     88.41%\n",
      "Coefficients: [ 0.16603948  0.96757703 -0.25831727 -0.29972806  0.0353225 ]\n",
      "Intercept:    -1.3576831676893057\n"
     ]
    }
   ],
   "source": [
    "linear = linear_model.LinearRegression()\n",
    "linear.fit(x_train, y_train)\n",
    "acc = linear.score(x_test, y_test)  # Accuracy of model\n",
    "\n",
    "print(f\"Accuracy:     {round(acc * 100, 2)}%\")\n",
    "print(f\"Coefficients: {linear.coef_}\")\n",
    "print(f\"Intercept:    {linear.intercept_}\")"
   ]
  },
  {
   "cell_type": "code",
   "execution_count": 61,
   "metadata": {},
   "outputs": [
    {
     "name": "stdout",
     "output_type": "stream",
     "text": [
      "True Label: 5.351738142462455\t Prediction: 0\n",
      "True Label: 9.510859658348085\t Prediction: 11\n",
      "True Label: 6.786828503192288\t Prediction: 8\n",
      "True Label: 20.109898853677084\t Prediction: 19\n",
      "True Label: 18.226080028332735\t Prediction: 18\n",
      "True Label: 12.831517543020562\t Prediction: 13\n",
      "True Label: 10.266014922827793\t Prediction: 11\n",
      "True Label: 13.121014270354976\t Prediction: 12\n",
      "True Label: 8.117322290123818\t Prediction: 9\n",
      "True Label: 10.998187931019588\t Prediction: 11\n",
      "True Label: 10.263385004514467\t Prediction: 12\n",
      "True Label: 6.4389723730666955\t Prediction: 9\n",
      "True Label: 11.89200326569808\t Prediction: 11\n",
      "True Label: 15.9098347930716\t Prediction: 18\n",
      "True Label: 9.811955722214718\t Prediction: 10\n",
      "True Label: 6.914664364376057\t Prediction: 8\n",
      "True Label: 12.26997773152851\t Prediction: 12\n",
      "True Label: 8.269672066754344\t Prediction: 9\n",
      "True Label: 12.83794750779021\t Prediction: 13\n",
      "True Label: 19.07167682663261\t Prediction: 18\n",
      "True Label: 6.227037390298532\t Prediction: 8\n",
      "True Label: 10.076506397937068\t Prediction: 11\n",
      "True Label: 3.6186655093896576\t Prediction: 0\n",
      "True Label: 9.20353018677371\t Prediction: 9\n",
      "True Label: 6.794520381019687\t Prediction: 8\n",
      "True Label: 14.868496062173254\t Prediction: 16\n",
      "True Label: 5.60283177852626\t Prediction: 9\n",
      "True Label: 11.541408212731133\t Prediction: 11\n",
      "True Label: 11.986910968963745\t Prediction: 11\n",
      "True Label: 9.366452965982106\t Prediction: 9\n",
      "True Label: 18.767464058912108\t Prediction: 18\n",
      "True Label: 5.105020210980068\t Prediction: 4\n",
      "True Label: 19.289051549927365\t Prediction: 20\n",
      "True Label: 15.037652249089394\t Prediction: 15\n",
      "True Label: 15.105180539491577\t Prediction: 15\n",
      "True Label: 12.862697002340369\t Prediction: 13\n",
      "True Label: 8.444771432899586\t Prediction: 10\n",
      "True Label: 15.366614511360055\t Prediction: 15\n",
      "True Label: 12.1286877430164\t Prediction: 13\n",
      "True Label: 4.973276891091479\t Prediction: 6\n"
     ]
    }
   ],
   "source": [
    "predictions = linear.predict(x_test)\n",
    "for i, true_label in enumerate(predictions):\n",
    "    print(f\"True Label: {true_label}\\t Prediction: {y_test[i]}\")\n"
   ]
  },
  {
   "cell_type": "code",
   "execution_count": 62,
   "metadata": {},
   "outputs": [
    {
     "name": "stdout",
     "output_type": "stream",
     "text": [
      "Parameters: [5 6 2 0 6] \t Prediction: 5 \t\t True Label: 6\n",
      "Parameters: [ 9 10  3  0  4] \t Prediction: 9 \t\t True Label: 10\n",
      "Parameters: [18 19  1  0  6] \t Prediction: 19 \t\t True Label: 19\n",
      "Parameters: [13 15  4  0  0] \t Prediction: 14 \t\t True Label: 15\n",
      "Parameters: [13 14  1  0  0] \t Prediction: 14 \t\t True Label: 14\n",
      "Parameters: [16 12  1  0  8] \t Prediction: 12 \t\t True Label: 13\n",
      "Parameters: [6 0 1 0 0] \t Prediction: 0 \t\t True Label: 0\n",
      "Parameters: [11 10  3  0  4] \t Prediction: 9 \t\t True Label: 11\n",
      "Parameters: [12 10  2  0  8] \t Prediction: 10 \t\t True Label: 11\n",
      "Parameters: [12 12  2  0 12] \t Prediction: 12 \t\t True Label: 11\n"
     ]
    }
   ],
   "source": [
    "best = 0\n",
    "\n",
    "for _ in range(100):\n",
    "    x_train, x_test, y_train, y_test = sklearn.model_selection.train_test_split(X, y, test_size=0.1)\n",
    "    training_model = linear_model.LinearRegression()\n",
    "    training_model.fit(x_train, y_train)\n",
    "    accuracy = linear.score(x_test, y_test)\n",
    "    if accuracy > best:\n",
    "        best = accuracy\n",
    "\n",
    "predictions = training_model.predict(x_test)\n",
    "for i in range(10):\n",
    "    print(f\"Parameters: {x_test[i]} \\t Prediction: {int(predictions[i])} \\t\\t True Label: {y_test[i]}\")"
   ]
  },
  {
   "cell_type": "code",
   "execution_count": 63,
   "metadata": {},
   "outputs": [
    {
     "data": {
      "text/plain": [
       "Text(0, 0.5, 'Prediction')"
      ]
     },
     "execution_count": 63,
     "metadata": {},
     "output_type": "execute_result"
    },
    {
     "data": {
      "image/png": "[encoded data removed]",
      "text/plain": [
       "<Figure size 432x288 with 1 Axes>"
      ]
     },
     "metadata": {},
     "output_type": "display_data"
    }
   ],
   "source": [
    "plt.title(\"Linear Regression\")\n",
    "plt.scatter(data[\"G1\"], data[\"G3\"])\n",
    "plt.xlabel(\"True Label\")\n",
    "plt.ylabel(\"Prediction\")"
   ]
  },
  {
   "cell_type": "code",
   "execution_count": null,
   "metadata": {},
   "outputs": [],
   "source": []
  }
 ],
 "metadata": {
  "interpreter": {
   "hash": "5826022c13cf670f25f82c54601002af42321e6e77593e3891ed52ffe2de205c"
  },
  "kernelspec": {
   "display_name": "Python 3.8.1 64-bit ('azureml_py38_tensorflow': conda)",
   "language": "python",
   "name": "python3"
  },
  "language_info": {
   "codemirror_mode": {
    "name": "ipython",
    "version": 3
   },
   "file_extension": ".py",
   "mimetype": "text/x-python",
   "name": "python",
   "nbconvert_exporter": "python",
   "pygments_lexer": "ipython3",
   "version": "3.10.0"
  },
  "orig_nbformat": 4
 },
 "nbformat": 4,
 "nbformat_minor": 2
}
