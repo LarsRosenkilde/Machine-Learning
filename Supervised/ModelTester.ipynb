{
 "cells": [
  {
   "cell_type": "code",
   "execution_count": 1,
   "metadata": {},
   "outputs": [],
   "source": [
    "%matplotlib inline\n",
    "\n",
    "import numpy as np\n",
    "import matplotlib.pyplot as plt\n",
    "from sklearn import datasets\n",
    "from sklearn.svm import SVC\n",
    "from sklearn.metrics import accuracy_score\n",
    "from sklearn.pipeline import make_pipeline\n",
    "from sklearn.preprocessing import StandardScaler\n",
    "from sklearn.model_selection import train_test_split\n",
    "\n",
    "dataset = datasets.load_wine()\n",
    "\n",
    "X = dataset.data\n",
    "y = dataset.target\n",
    "features = dataset.data.T"
   ]
  },
  {
   "cell_type": "code",
   "execution_count": 2,
   "metadata": {},
   "outputs": [],
   "source": [
    "class SupportVectorClassifier(object):\n",
    "    def __init__(self, dataset, X, y, n_iter=50):\n",
    "        self.X = X\n",
    "        self.y = y\n",
    "        self.dataset = dataset\n",
    "        self.n_iter = n_iter\n",
    "        \n",
    "        self.classes = list(dataset.feature_names)\n",
    "        self.model = SVC(kernel=\"linear\", C=3)\n",
    "    \n",
    "    def train_model(self):\n",
    "        for i in range(self.n_iter):\n",
    "            X_train, X_test, y_train, y_test = train_test_split(self.X, self.y, test_size=0.01)        \n",
    "            self.model.fit(X_train, y_train)\n",
    "\n",
    "            pred = self.model.predict(X_test)\n",
    "            acc = round(accuracy_score(y_test, pred), 2) * 100\n",
    "            \n",
    "            print(f\"Prediction:\\t{self.classes[pred[i]].ljust(10)}\"\\\n",
    "                  f\"\\tActual: {self.classes[y_test[i]].ljust(10)}\"\\\n",
    "                  f\"\\tAccuracy: {str(round(acc * 100, 2)).ljust(5)}%\")\n",
    "\n",
    "if __name__ == \"__main__\":\n",
    "    pass"
   ]
  }
 ],
 "metadata": {
  "interpreter": {
   "hash": "12c0503252f5e3b599e9b1df0980693168c0f1e59ac79299172e5f3c099bd4f7"
  },
  "kernelspec": {
   "display_name": "Python 3.10.0 64-bit",
   "language": "python",
   "name": "python3"
  },
  "language_info": {
   "codemirror_mode": {
    "name": "ipython",
    "version": 3
   },
   "file_extension": ".py",
   "mimetype": "text/x-python",
   "name": "python",
   "nbconvert_exporter": "python",
   "pygments_lexer": "ipython3",
   "version": "3.7.11"
  },
  "orig_nbformat": 4
 },
 "nbformat": 4,
 "nbformat_minor": 2
}
