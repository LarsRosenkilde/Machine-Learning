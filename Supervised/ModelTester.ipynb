{
 "cells": [
  {
   "cell_type": "code",
   "execution_count": 50,
   "metadata": {},
   "outputs": [],
   "source": [
    "%matplotlib inline\n",
    "\n",
    "import numpy as np\n",
    "from matplotlib import style\n",
    "import matplotlib.pyplot as plt\n",
    "from sklearn import datasets\n",
    "from sklearn.svm import SVC\n",
    "from sklearn.cluster import KMeans\n",
    "from sklearn.metrics import accuracy_score\n",
    "from sklearn.model_selection import train_test_split\n",
    "\n",
    "style.use(\"ggplot\")\n",
    "\n",
    "dataset = datasets.load_wine()\n",
    "\n",
    "X = dataset.data\n",
    "y = dataset.target\n",
    "features = dataset.data.T"
   ]
  },
  {
   "cell_type": "code",
   "execution_count": 51,
   "metadata": {},
   "outputs": [
    {
     "name": "stdout",
     "output_type": "stream",
     "text": [
      "Prediction:\t\tActual:\t\t\tAccuracy:\n",
      "alcohol   \t\talcohol   \t\t96.3%\n",
      "malic_acid\t\tmalic_acid\t\t96.3%\n",
      "alcohol   \t\talcohol   \t\t98.15%\n",
      "alcohol   \t\tmalic_acid\t\t96.3%\n",
      "malic_acid\t\tmalic_acid\t\t96.3%\n",
      "malic_acid\t\tmalic_acid\t\t96.3%\n",
      "ash       \t\tash       \t\t92.59%\n",
      "alcohol   \t\talcohol   \t\t90.74%\n",
      "alcohol   \t\tmalic_acid\t\t96.3%\n",
      "malic_acid\t\tmalic_acid\t\t92.59%\n",
      "alcohol   \t\talcohol   \t\t92.59%\n",
      "malic_acid\t\tmalic_acid\t\t96.3%\n",
      "ash       \t\tash       \t\t92.59%\n",
      "malic_acid\t\tmalic_acid\t\t92.59%\n",
      "alcohol   \t\talcohol   \t\t98.15%\n",
      "malic_acid\t\tmalic_acid\t\t94.44%\n",
      "malic_acid\t\tmalic_acid\t\t92.59%\n",
      "malic_acid\t\tmalic_acid\t\t96.3%\n",
      "ash       \t\tash       \t\t94.44%\n",
      "alcohol   \t\talcohol   \t\t94.44%\n",
      "ash       \t\tash       \t\t96.3%\n",
      "alcohol   \t\talcohol   \t\t96.3%\n",
      "malic_acid\t\tmalic_acid\t\t98.15%\n",
      "alcohol   \t\talcohol   \t\t94.44%\n",
      "malic_acid\t\tmalic_acid\t\t90.74%\n",
      "ash       \t\tash       \t\t98.15%\n",
      "malic_acid\t\tmalic_acid\t\t96.3%\n",
      "alcohol   \t\tmalic_acid\t\t96.3%\n",
      "alcohol   \t\talcohol   \t\t98.15%\n",
      "malic_acid\t\tmalic_acid\t\t94.44%\n",
      "malic_acid\t\tmalic_acid\t\t92.59%\n",
      "ash       \t\tash       \t\t94.44%\n",
      "alcohol   \t\talcohol   \t\t88.89%\n",
      "alcohol   \t\talcohol   \t\t92.59%\n",
      "malic_acid\t\tmalic_acid\t\t90.74%\n",
      "ash       \t\tash       \t\t96.3%\n",
      "malic_acid\t\tmalic_acid\t\t98.15%\n",
      "alcohol   \t\talcohol   \t\t92.59%\n",
      "malic_acid\t\talcohol   \t\t94.44%\n",
      "malic_acid\t\tmalic_acid\t\t96.3%\n",
      "malic_acid\t\tmalic_acid\t\t94.44%\n",
      "malic_acid\t\tmalic_acid\t\t88.89%\n",
      "malic_acid\t\tmalic_acid\t\t96.3%\n",
      "malic_acid\t\tmalic_acid\t\t98.15%\n",
      "ash       \t\tash       \t\t96.3%\n",
      "ash       \t\tash       \t\t92.59%\n",
      "malic_acid\t\tmalic_acid\t\t92.59%\n",
      "alcohol   \t\talcohol   \t\t100.0%\n",
      "malic_acid\t\tmalic_acid\t\t96.3%\n",
      "alcohol   \t\talcohol   \t\t96.3%\n",
      "Average Accuracy: 95.05%\n",
      "Misclassifications: 4 out of 50 examples\n"
     ]
    }
   ],
   "source": [
    "\n",
    "class SupportVectorClassifier(object):\n",
    "    def __init__(self, dataset, X, y, n_iter=45):\n",
    "        self.X = X\n",
    "        self.y = y\n",
    "        self.dataset = dataset\n",
    "        self.n_iter = n_iter\n",
    "        \n",
    "        self.classes = list(dataset.feature_names)\n",
    "        self.model = SVC(kernel=\"linear\", C=3)\n",
    "        self.results = []\n",
    "        self.predictions = []\n",
    "        self.misclassifications = 0\n",
    "        \n",
    "        self.train_model()\n",
    "    \n",
    "    def train_model(self):\n",
    "        self.results.append(\"Prediction:\\t\\tActual:\\t\\t\\tAccuracy:\")\n",
    "        for i in range(self.n_iter):\n",
    "            X_train, X_test, y_train, y_test = train_test_split(self.X, self.y, test_size=0.3)        \n",
    "            self.model.fit(X_train, y_train)\n",
    "\n",
    "            pred = self.model.predict(X_test)\n",
    "            if self.classes[pred[i]] != self.classes[y_test[i]]:\n",
    "                self.misclassifications += 1\n",
    "                \n",
    "            acc = round(accuracy_score(y_test, pred) * 100, 2)\n",
    "            self.predictions.append(acc)\n",
    "            \n",
    "            self.results.append(f\"{self.classes[pred[i]].ljust(10)}\\t\\t{self.classes[y_test[i]].ljust(10)}\\t\\t{acc}%\")\n",
    "\n",
    "    def average_accuracy(self):\n",
    "        self.predictions = sorted(self.predictions)\n",
    "        scaled_data = self.predictions[5:-5]\n",
    "        return round(sum(scaled_data) / len(scaled_data), 2)\n",
    "    \n",
    "    def plot_data(self):\n",
    "        pass\n",
    "        \n",
    "    \n",
    "if __name__ == \"__main__\":\n",
    "    model = SupportVectorClassifier(dataset, X, y, n_iter=50)\n",
    "    [print(res) for res in model.results]\n",
    "    print(f\"Average Accuracy: {model.average_accuracy()}%\")\n",
    "    print(f\"Misclassifications: {model.misclassifications} out of {model.n_iter} examples\")"
   ]
  },
  {
   "cell_type": "code",
   "execution_count": 58,
   "metadata": {},
   "outputs": [
    {
     "name": "stderr",
     "output_type": "stream",
     "text": [
      "No handles with labels found to put in legend.\n"
     ]
    },
    {
     "name": "stdout",
     "output_type": "stream",
     "text": [
      "-107.51359487500001\n"
     ]
    },
    {
     "data": {
      "text/plain": [
       "<matplotlib.legend.Legend at 0x1ac43590d08>"
      ]
     },
     "execution_count": 58,
     "metadata": {},
     "output_type": "execute_result"
    },
    {
     "data": {
      "image/png": "[encoded data removed]",
      "text/plain": [
       "<Figure size 432x288 with 1 Axes>"
      ]
     },
     "metadata": {},
     "output_type": "display_data"
    }
   ],
   "source": [
    "x, y, z = features[:3]\n",
    "x_n = np.vstack((x, y, z)).T\n",
    "\n",
    "kmeans = KMeans(n_clusters=3)\n",
    "kmeans.fit(x_n)\n",
    "\n",
    "print(kmeans.score(x_n))\n",
    "\n",
    "centroids = kmeans.cluster_centers_\n",
    "labels = kmeans.labels_\n",
    "colors = (\"r.\", \"g.\", \"b.\")\n",
    "\n",
    "for i in range(len(x_n)):\n",
    "    plt.plot(x_n[i][0], x_n[i][1], colors[labels[i]], markersize=10)\n",
    "\n",
    "plt.scatter(centroids[:, 0], centroids[:, 1], marker=\"x\", s=150, linewidth=5, zorder=10, color=\"black\")\n"
   ]
  },
  {
   "cell_type": "code",
   "execution_count": null,
   "metadata": {},
   "outputs": [],
   "source": []
  }
 ],
 "metadata": {
  "interpreter": {
   "hash": "12c0503252f5e3b599e9b1df0980693168c0f1e59ac79299172e5f3c099bd4f7"
  },
  "kernelspec": {
   "display_name": "Python 3.10.0 64-bit",
   "language": "python",
   "name": "python3"
  },
  "language_info": {
   "codemirror_mode": {
    "name": "ipython",
    "version": 3
   },
   "file_extension": ".py",
   "mimetype": "text/x-python",
   "name": "python",
   "nbconvert_exporter": "python",
   "pygments_lexer": "ipython3",
   "version": "3.7.11"
  },
  "orig_nbformat": 4
 },
 "nbformat": 4,
 "nbformat_minor": 2
}
