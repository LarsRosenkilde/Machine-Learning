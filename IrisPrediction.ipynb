{
 "cells": [
  {
   "cell_type": "code",
   "execution_count": null,
   "metadata": {},
   "outputs": [],
   "source": [
    "%matplotlib inline\n",
    "\n",
    "import os\n",
    "import sklearn\n",
    "import numpy as np\n",
    "import pandas as pd\n",
    "from sklearn import preprocessing, datasets\n",
    "from sklearn.neighbors import KNeighborsClassifier"
   ]
  },
  {
   "cell_type": "markdown",
   "metadata": {},
   "source": [
    "# Load Iris data set from URL"
   ]
  },
  {
   "cell_type": "code",
   "execution_count": null,
   "metadata": {},
   "outputs": [],
   "source": [
    "iris = os.path.join(\"https://archive.ics.uci.edu\", \"ml\", \"machine-learning-databases\", \"iris\", \"iris.data\")\n",
    "data = pd.read_csv(iris, header=None, encoding=\"utf-8\")"
   ]
  },
  {
   "cell_type": "markdown",
   "metadata": {},
   "source": [
    "# Process and clean data"
   ]
  },
  {
   "cell_type": "code",
   "execution_count": null,
   "metadata": {},
   "outputs": [],
   "source": [
    "proc = preprocessing.LabelEncoder()\n",
    "sepal_length = proc.fit_transform(list(data[0]))\n",
    "sepal_width = proc.fit_transform(list(data[1]))\n",
    "petal_length = proc.fit_transform(list(data[2]))\n",
    "petal_width = proc.fit_transform(list(data[3]))\n",
    "species = proc.fit_transform(list(data[4]))"
   ]
  },
  {
   "cell_type": "markdown",
   "metadata": {},
   "source": [
    "# Prediction"
   ]
  },
  {
   "cell_type": "code",
   "execution_count": null,
   "metadata": {},
   "outputs": [],
   "source": [
    "predict = 4\n",
    "\n",
    "x = list(zip(sepal_length, sepal_width, petal_length, petal_width))\n",
    "y = list(species)"
   ]
  },
  {
   "cell_type": "markdown",
   "metadata": {},
   "source": [
    "# Train and predict species"
   ]
  },
  {
   "cell_type": "code",
   "execution_count": null,
   "metadata": {},
   "outputs": [],
   "source": [
    "variations = [\"Iris-setosa\", \"Iris-virginica\", \"Iris-versicolor\"]\n",
    "best = 0\n",
    "worst = 100\n",
    "\n",
    "for i in range(100):\n",
    "    x_train, x_test, y_train, y_test = sklearn.model_selection.train_test_split(x, y, test_size=0.7)\n",
    "\n",
    "    model = KNeighborsClassifier(n_neighbors=5)\n",
    "    model.fit(x_train, y_train)\n",
    "    \n",
    "    accuracy = model.score(x_test, y_test)\n",
    "    if accuracy > best:\n",
    "        best = accuracy\n",
    "    elif accuracy < worst:\n",
    "        worst = accuracy\n",
    "    \n",
    "    prediction = model.predict(x_test)\n",
    "    print(f\"Prediction:\\t{variations[prediction[i]].ljust(10)}\\t\\tActual: {variations[y_test[i]].ljust(10)}\\t\\tAccuracy: {str(round(accuracy * 100, 2)).ljust(5)}%\\tData: {x_test[i]}\")\n",
    "    \n",
    "print(f\"\\nHighest Accuracy: {round((best * 100), 2)}%\")\n",
    "print(f\"Worst Accuracy: {round((worst * 100), 2)}%\")"
   ]
  },
  {
   "cell_type": "code",
   "execution_count": null,
   "metadata": {},
   "outputs": [],
   "source": []
  }
 ],
 "metadata": {
  "kernelspec": {
   "display_name": "Python 3.8 - AzureML",
   "language": "python",
   "name": "python38-azureml"
  },
  "language_info": {
   "codemirror_mode": {
    "name": "ipython",
    "version": 3
   },
   "file_extension": ".py",
   "mimetype": "text/x-python",
   "name": "python",
   "nbconvert_exporter": "python",
   "pygments_lexer": "ipython3",
   "version": "3.8.1"
  },
  "orig_nbformat": 4
 },
 "nbformat": 4,
 "nbformat_minor": 2
}
