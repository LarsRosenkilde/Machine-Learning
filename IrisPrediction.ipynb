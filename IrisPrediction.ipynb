{
 "cells": [
  {
   "cell_type": "code",
   "execution_count": 74,
   "metadata": {},
   "outputs": [],
   "source": [
    "%matplotlib inline\n",
    "\n",
    "import os\n",
    "import sklearn\n",
    "import numpy as np\n",
    "import pandas as pd\n",
    "from matplotlib import pyplot as plt\n",
    "from sklearn import preprocessing, datasets\n",
    "from sklearn.neighbors import KNeighborsClassifier\n",
    "\n",
    "plt.style.use(\"ggplot\")"
   ]
  },
  {
   "cell_type": "markdown",
   "metadata": {},
   "source": [
    "# Load and parse Iris data set from URL"
   ]
  },
  {
   "cell_type": "code",
   "execution_count": 75,
   "metadata": {},
   "outputs": [],
   "source": [
    "iris = os.path.join(\"https://archive.ics.uci.edu\", \"ml\", \"machine-learning-databases\", \"iris\", \"iris.data\")\n",
    "data = pd.read_csv(iris, header=None, encoding=\"utf-8\")"
   ]
  },
  {
   "cell_type": "markdown",
   "metadata": {},
   "source": [
    "# Process and clean the data"
   ]
  },
  {
   "cell_type": "code",
   "execution_count": 76,
   "metadata": {},
   "outputs": [],
   "source": [
    "proc = preprocessing.LabelEncoder()\n",
    "sepal_length = proc.fit_transform(list(data[0]))\n",
    "sepal_width = proc.fit_transform(list(data[1]))\n",
    "petal_length = proc.fit_transform(list(data[2]))\n",
    "petal_width = proc.fit_transform(list(data[3]))\n",
    "species = proc.fit_transform(list(data[4]))\n",
    "\n",
    "predict = 4 # Species \n",
    "\n",
    "x = list(zip(sepal_length, sepal_width, petal_length, petal_width))\n",
    "y = list(species)"
   ]
  },
  {
   "cell_type": "markdown",
   "metadata": {},
   "source": [
    "# Train and predict species"
   ]
  },
  {
   "cell_type": "code",
   "execution_count": 77,
   "metadata": {},
   "outputs": [],
   "source": [
    "variations = [\"Iris-setosa\", \"Iris-versicolor\", \"Iris-virginica\"]\n",
    "best = 0\n",
    "worst = 100\n",
    "results = []\n",
    "\n",
    "for i in range(105):\n",
    "    x_train, x_test, y_train, y_test = sklearn.model_selection.train_test_split(x, y, test_size=0.7)\n",
    "\n",
    "    model = KNeighborsClassifier(n_neighbors=5)\n",
    "    model.fit(x_train, y_train)\n",
    "    \n",
    "    accuracy = model.score(x_test, y_test)\n",
    "    if accuracy > best:\n",
    "        best = accuracy\n",
    "    elif accuracy < worst:\n",
    "        worst = accuracy\n",
    "    \n",
    "    prediction = model.predict(x_test)\n",
    "    results.append(f\"Prediction:\\t{variations[prediction[i]].ljust(10)}\\t\\tActual: {variations[y_test[i]].ljust(10)}\\t\\tAccuracy: {str(round(accuracy * 100, 2)).ljust(5)}%\\tData: {x_test[i]}\")"
   ]
  },
  {
   "cell_type": "code",
   "execution_count": 78,
   "metadata": {},
   "outputs": [
    {
     "name": "stdout",
     "output_type": "stream",
     "text": [
      "Prediction:\tIris-setosa\t\tActual: Iris-setosa\t\tAccuracy: 98.1 %\tData: (5, 9, 4, 0)\n",
      "Prediction:\tIris-versicolor\t\tActual: Iris-versicolor\t\tAccuracy: 96.19%\tData: (21, 11, 21, 11)\n",
      "Prediction:\tIris-setosa\t\tActual: Iris-setosa\t\tAccuracy: 94.29%\tData: (8, 16, 5, 3)\n",
      "Prediction:\tIris-virginica\t\tActual: Iris-virginica\t\tAccuracy: 96.19%\tData: (22, 11, 27, 16)\n",
      "Prediction:\tIris-versicolor\t\tActual: Iris-versicolor\t\tAccuracy: 94.29%\tData: (17, 1, 16, 6)\n",
      "Prediction:\tIris-versicolor\t\tActual: Iris-versicolor\t\tAccuracy: 94.29%\tData: (20, 2, 20, 9)\n",
      "Prediction:\tIris-setosa\t\tActual: Iris-setosa\t\tAccuracy: 92.38%\tData: (6, 10, 5, 0)\n",
      "Prediction:\tIris-virginica\t\tActual: Iris-virginica\t\tAccuracy: 95.24%\tData: (21, 7, 32, 17)\n",
      "Prediction:\tIris-setosa\t\tActual: Iris-setosa\t\tAccuracy: 96.19%\tData: (8, 17, 8, 3)\n",
      "Prediction:\tIris-setosa\t\tActual: Iris-setosa\t\tAccuracy: 94.29%\tData: (14, 22, 5, 3)\n",
      "Prediction:\tIris-setosa\t\tActual: Iris-setosa\t\tAccuracy: 94.29%\tData: (8, 17, 5, 2)\n",
      "Prediction:\tIris-setosa\t\tActual: Iris-setosa\t\tAccuracy: 97.14%\tData: (14, 17, 7, 2)\n",
      "Prediction:\tIris-virginica\t\tActual: Iris-versicolor\t\tAccuracy: 93.33%\tData: (17, 6, 27, 12)\n",
      "Prediction:\tIris-versicolor\t\tActual: Iris-versicolor\t\tAccuracy: 91.43%\tData: (14, 7, 17, 9)\n",
      "Prediction:\tIris-setosa\t\tActual: Iris-setosa\t\tAccuracy: 89.52%\tData: (11, 18, 3, 3)\n",
      "Prediction:\tIris-versicolor\t\tActual: Iris-versicolor\t\tAccuracy: 91.43%\tData: (18, 7, 16, 9)\n",
      "Prediction:\tIris-virginica\t\tActual: Iris-virginica\t\tAccuracy: 95.24%\tData: (24, 9, 28, 19)\n",
      "Prediction:\tIris-setosa\t\tActual: Iris-setosa\t\tAccuracy: 88.57%\tData: (6, 10, 5, 0)\n",
      "Prediction:\tIris-virginica\t\tActual: Iris-virginica\t\tAccuracy: 97.14%\tData: (25, 11, 35, 19)\n",
      "Prediction:\tIris-versicolor\t\tActual: Iris-versicolor\t\tAccuracy: 89.52%\tData: (14, 9, 18, 8)\n",
      "Prediction:\tIris-versicolor\t\tActual: Iris-versicolor\t\tAccuracy: 97.14%\tData: (18, 8, 23, 10)\n",
      "Prediction:\tIris-setosa\t\tActual: Iris-setosa\t\tAccuracy: 93.33%\tData: (5, 9, 4, 2)\n",
      "Prediction:\tIris-setosa\t\tActual: Iris-setosa\t\tAccuracy: 94.29%\tData: (8, 17, 5, 2)\n",
      "Prediction:\tIris-versicolor\t\tActual: Iris-versicolor\t\tAccuracy: 94.29%\tData: (17, 13, 21, 12)\n",
      "Prediction:\tIris-versicolor\t\tActual: Iris-versicolor\t\tAccuracy: 96.19%\tData: (18, 7, 23, 8)\n",
      "Prediction:\tIris-virginica\t\tActual: Iris-virginica\t\tAccuracy: 96.19%\tData: (33, 9, 37, 19)\n",
      "Prediction:\tIris-versicolor\t\tActual: Iris-versicolor\t\tAccuracy: 93.33%\tData: (23, 8, 22, 9)\n",
      "Prediction:\tIris-virginica\t\tActual: Iris-virginica\t\tAccuracy: 95.24%\tData: (17, 1, 26, 11)\n",
      "Prediction:\tIris-setosa\t\tActual: Iris-setosa\t\tAccuracy: 97.14%\tData: (7, 12, 4, 1)\n",
      "Prediction:\tIris-virginica\t\tActual: Iris-virginica\t\tAccuracy: 94.29%\tData: (24, 9, 28, 19)\n",
      "Prediction:\tIris-versicolor\t\tActual: Iris-versicolor\t\tAccuracy: 94.29%\tData: (16, 11, 24, 14)\n",
      "Prediction:\tIris-virginica\t\tActual: Iris-virginica\t\tAccuracy: 96.19%\tData: (21, 7, 32, 18)\n",
      "Prediction:\tIris-virginica\t\tActual: Iris-virginica\t\tAccuracy: 95.24%\tData: (18, 5, 32, 10)\n",
      "Prediction:\tIris-virginica\t\tActual: Iris-versicolor\t\tAccuracy: 89.52%\tData: (20, 4, 25, 11)\n",
      "Prediction:\tIris-virginica\t\tActual: Iris-virginica\t\tAccuracy: 95.24%\tData: (21, 7, 32, 18)\n",
      "Prediction:\tIris-virginica\t\tActual: Iris-virginica\t\tAccuracy: 89.52%\tData: (19, 13, 30, 19)\n",
      "Prediction:\tIris-setosa\t\tActual: Iris-setosa\t\tAccuracy: 90.48%\tData: (8, 12, 7, 4)\n",
      "Prediction:\tIris-virginica\t\tActual: Iris-virginica\t\tAccuracy: 89.52%\tData: (24, 10, 32, 20)\n",
      "Prediction:\tIris-setosa\t\tActual: Iris-setosa\t\tAccuracy: 96.19%\tData: (14, 17, 7, 2)\n",
      "Prediction:\tIris-setosa\t\tActual: Iris-setosa\t\tAccuracy: 96.19%\tData: (8, 17, 5, 2)\n",
      "Prediction:\tIris-versicolor\t\tActual: Iris-versicolor\t\tAccuracy: 90.48%\tData: (17, 6, 27, 12)\n",
      "Prediction:\tIris-versicolor\t\tActual: Iris-versicolor\t\tAccuracy: 94.29%\tData: (16, 9, 18, 11)\n",
      "Prediction:\tIris-virginica\t\tActual: Iris-virginica\t\tAccuracy: 96.19%\tData: (22, 9, 31, 14)\n",
      "Prediction:\tIris-setosa\t\tActual: Iris-setosa\t\tAccuracy: 96.19%\tData: (2, 2, 3, 2)\n",
      "Prediction:\tIris-setosa\t\tActual: Iris-setosa\t\tAccuracy: 94.29%\tData: (12, 21, 4, 1)\n",
      "Prediction:\tIris-setosa\t\tActual: Iris-setosa\t\tAccuracy: 89.52%\tData: (14, 22, 5, 3)\n",
      "Prediction:\tIris-setosa\t\tActual: Iris-setosa\t\tAccuracy: 95.24%\tData: (11, 18, 7, 3)\n",
      "Prediction:\tIris-virginica\t\tActual: Iris-virginica\t\tAccuracy: 92.38%\tData: (22, 9, 31, 14)\n",
      "Prediction:\tIris-versicolor\t\tActual: Iris-versicolor\t\tAccuracy: 88.57%\tData: (22, 7, 22, 11)\n",
      "Prediction:\tIris-versicolor\t\tActual: Iris-versicolor\t\tAccuracy: 97.14%\tData: (16, 9, 18, 11)\n",
      "Prediction:\tIris-versicolor\t\tActual: Iris-versicolor\t\tAccuracy: 96.19%\tData: (9, 6, 15, 10)\n",
      "Prediction:\tIris-setosa\t\tActual: Iris-setosa\t\tAccuracy: 97.14%\tData: (14, 22, 5, 3)\n",
      "Prediction:\tIris-virginica\t\tActual: Iris-virginica\t\tAccuracy: 91.43%\tData: (21, 10, 31, 14)\n",
      "Prediction:\tIris-versicolor\t\tActual: Iris-versicolor\t\tAccuracy: 95.24%\tData: (18, 9, 22, 10)\n",
      "Prediction:\tIris-versicolor\t\tActual: Iris-versicolor\t\tAccuracy: 89.52%\tData: (22, 7, 22, 11)\n",
      "Prediction:\tIris-versicolor\t\tActual: Iris-versicolor\t\tAccuracy: 96.19%\tData: (17, 13, 21, 12)\n",
      "Prediction:\tIris-versicolor\t\tActual: Iris-versicolor\t\tAccuracy: 95.24%\tData: (13, 4, 15, 7)\n",
      "Prediction:\tIris-versicolor\t\tActual: Iris-versicolor\t\tAccuracy: 96.19%\tData: (21, 8, 19, 9)\n",
      "Prediction:\tIris-versicolor\t\tActual: Iris-versicolor\t\tAccuracy: 93.33%\tData: (14, 8, 18, 9)\n",
      "Prediction:\tIris-setosa\t\tActual: Iris-setosa\t\tAccuracy: 94.29%\tData: (3, 10, 5, 1)\n",
      "Prediction:\tIris-versicolor\t\tActual: Iris-virginica\t\tAccuracy: 94.29%\tData: (20, 7, 27, 11)\n",
      "Prediction:\tIris-virginica\t\tActual: Iris-virginica\t\tAccuracy: 95.24%\tData: (24, 9, 28, 19)\n",
      "Prediction:\tIris-versicolor\t\tActual: Iris-versicolor\t\tAccuracy: 95.24%\tData: (12, 2, 16, 9)\n",
      "Prediction:\tIris-virginica\t\tActual: Iris-virginica\t\tAccuracy: 96.19%\tData: (22, 11, 27, 16)\n",
      "Prediction:\tIris-virginica\t\tActual: Iris-virginica\t\tAccuracy: 93.33%\tData: (21, 7, 32, 18)\n",
      "Prediction:\tIris-virginica\t\tActual: Iris-virginica\t\tAccuracy: 92.38%\tData: (29, 11, 36, 14)\n",
      "Prediction:\tIris-setosa\t\tActual: Iris-setosa\t\tAccuracy: 96.19%\tData: (6, 9, 4, 1)\n",
      "Prediction:\tIris-versicolor\t\tActual: Iris-versicolor\t\tAccuracy: 91.43%\tData: (19, 1, 21, 11)\n",
      "Prediction:\tIris-versicolor\t\tActual: Iris-versicolor\t\tAccuracy: 98.1 %\tData: (14, 5, 11, 6)\n",
      "Prediction:\tIris-versicolor\t\tActual: Iris-versicolor\t\tAccuracy: 96.19%\tData: (20, 2, 20, 9)\n",
      "Prediction:\tIris-setosa\t\tActual: Iris-setosa\t\tAccuracy: 96.19%\tData: (7, 13, 5, 1)\n",
      "Prediction:\tIris-virginica\t\tActual: Iris-virginica\t\tAccuracy: 94.29%\tData: (14, 4, 26, 16)\n",
      "Prediction:\tIris-setosa\t\tActual: Iris-setosa\t\tAccuracy: 97.14%\tData: (11, 18, 3, 3)\n",
      "Prediction:\tIris-virginica\t\tActual: Iris-virginica\t\tAccuracy: 96.19%\tData: (20, 12, 36, 21)\n",
      "Prediction:\tIris-versicolor\t\tActual: Iris-versicolor\t\tAccuracy: 96.19%\tData: (18, 8, 23, 10)\n",
      "Prediction:\tIris-setosa\t\tActual: Iris-setosa\t\tAccuracy: 95.24%\tData: (6, 10, 5, 0)\n",
      "Prediction:\tIris-versicolor\t\tActual: Iris-versicolor\t\tAccuracy: 91.43%\tData: (17, 13, 21, 12)\n",
      "Prediction:\tIris-versicolor\t\tActual: Iris-versicolor\t\tAccuracy: 97.14%\tData: (18, 7, 16, 9)\n",
      "Prediction:\tIris-setosa\t\tActual: Iris-setosa\t\tAccuracy: 92.38%\tData: (6, 10, 5, 0)\n",
      "Prediction:\tIris-versicolor\t\tActual: Iris-versicolor\t\tAccuracy: 82.86%\tData: (12, 5, 20, 8)\n",
      "Prediction:\tIris-versicolor\t\tActual: Iris-versicolor\t\tAccuracy: 98.1 %\tData: (18, 7, 23, 8)\n",
      "Prediction:\tIris-virginica\t\tActual: Iris-virginica\t\tAccuracy: 98.1 %\tData: (22, 9, 31, 14)\n",
      "Prediction:\tIris-versicolor\t\tActual: Iris-versicolor\t\tAccuracy: 94.29%\tData: (19, 8, 19, 9)\n",
      "Prediction:\tIris-virginica\t\tActual: Iris-virginica\t\tAccuracy: 92.38%\tData: (33, 7, 41, 16)\n",
      "Prediction:\tIris-setosa\t\tActual: Iris-setosa\t\tAccuracy: 97.14%\tData: (10, 16, 5, 1)\n",
      "Prediction:\tIris-setosa\t\tActual: Iris-setosa\t\tAccuracy: 95.24%\tData: (7, 14, 6, 5)\n",
      "Prediction:\tIris-versicolor\t\tActual: Iris-versicolor\t\tAccuracy: 94.29%\tData: (25, 7, 24, 10)\n",
      "Prediction:\tIris-setosa\t\tActual: Iris-setosa\t\tAccuracy: 93.33%\tData: (4, 11, 3, 1)\n",
      "Prediction:\tIris-versicolor\t\tActual: Iris-versicolor\t\tAccuracy: 96.19%\tData: (18, 9, 22, 10)\n",
      "Prediction:\tIris-virginica\t\tActual: Iris-virginica\t\tAccuracy: 92.38%\tData: (16, 9, 27, 14)\n",
      "Prediction:\tIris-virginica\t\tActual: Iris-virginica\t\tAccuracy: 96.19%\tData: (22, 9, 31, 14)\n",
      "Prediction:\tIris-versicolor\t\tActual: Iris-versicolor\t\tAccuracy: 94.29%\tData: (15, 5, 16, 8)\n",
      "Prediction:\tIris-versicolor\t\tActual: Iris-versicolor\t\tAccuracy: 95.24%\tData: (19, 8, 19, 9)\n",
      "Prediction:\tIris-setosa\t\tActual: Iris-setosa\t\tAccuracy: 94.29%\tData: (3, 13, 4, 2)\n",
      "Prediction:\tIris-versicolor\t\tActual: Iris-versicolor\t\tAccuracy: 93.33%\tData: (13, 6, 18, 9)\n",
      "Prediction:\tIris-setosa\t\tActual: Iris-setosa\t\tAccuracy: 96.19%\tData: (7, 13, 5, 1)\n",
      "Prediction:\tIris-virginica\t\tActual: Iris-virginica\t\tAccuracy: 93.33%\tData: (20, 4, 26, 15)\n",
      "Prediction:\tIris-virginica\t\tActual: Iris-virginica\t\tAccuracy: 91.43%\tData: (24, 12, 33, 21)\n",
      "Prediction:\tIris-virginica\t\tActual: Iris-virginica\t\tAccuracy: 96.19%\tData: (22, 9, 31, 14)\n",
      "Prediction:\tIris-versicolor\t\tActual: Iris-versicolor\t\tAccuracy: 97.14%\tData: (17, 13, 21, 12)\n",
      "Prediction:\tIris-versicolor\t\tActual: Iris-virginica\t\tAccuracy: 92.38%\tData: (13, 7, 25, 16)\n",
      "Prediction:\tIris-versicolor\t\tActual: Iris-versicolor\t\tAccuracy: 98.1 %\tData: (13, 6, 18, 9)\n",
      "Prediction:\tIris-setosa\t\tActual: Iris-setosa\t\tAccuracy: 98.1 %\tData: (7, 9, 6, 1)\n",
      "Prediction:\tIris-versicolor\t\tActual: Iris-versicolor\t\tAccuracy: 88.57%\tData: (14, 8, 18, 9)\n",
      "Prediction:\tIris-setosa\t\tActual: Iris-setosa\t\tAccuracy: 94.29%\tData: (14, 17, 7, 2)\n",
      "\n",
      "Highest Accuracy: 98.1%\n",
      "Worst Accuracy: 82.86%\n"
     ]
    }
   ],
   "source": [
    "for result in results:\n",
    "    print(result)\n",
    "    \n",
    "print(f\"\\nHighest Accuracy: {round((best * 100), 2)}%\")\n",
    "print(f\"Worst Accuracy: {round((worst * 100), 2)}%\")"
   ]
  },
  {
   "cell_type": "markdown",
   "metadata": {},
   "source": [
    "# Graphical illustration"
   ]
  },
  {
   "cell_type": "code",
   "execution_count": 79,
   "metadata": {},
   "outputs": [
    {
     "data": {
      "text/plain": [
       "<matplotlib.legend.Legend at 0x7faaa02a6d00>"
      ]
     },
     "execution_count": 79,
     "metadata": {},
     "output_type": "execute_result"
    },
    {
     "data": {
      "image/png": "[encoded data removed]",
      "text/plain": [
       "<Figure size 432x288 with 1 Axes>"
      ]
     },
     "metadata": {},
     "output_type": "display_data"
    }
   ],
   "source": [
    "y = data.iloc[0:100, 4].values\n",
    "y = np.where(y == \"Iris-setosa\", -1, 1)\n",
    "\n",
    "X = data.iloc[0:100, [0, 2]].values\n",
    "\n",
    "plt.scatter(X[:50, 0], X[:50, 1], color=\"red\", marker=\"o\", label=\"Setosa\")\n",
    "plt.scatter(X[50:100, 0], X[50:100, 1], color=\"green\", marker=\"x\", label=\"Versicolor\")\n",
    "\n",
    "plt.title(\"Iris Dataset Illustration\")\n",
    "plt.xlabel(\"Sepal length in cm\")\n",
    "plt.ylabel(\"Petal length in cm\")\n",
    "plt.grid(True)\n",
    "plt.legend()\n"
   ]
  },
  {
   "cell_type": "markdown",
   "metadata": {},
   "source": [
    "# Perceptron method"
   ]
  },
  {
   "cell_type": "code",
   "execution_count": 80,
   "metadata": {},
   "outputs": [],
   "source": [
    "class Perceptron(object):\n",
    "    def __init__(self, eta=0.01, n_iter=50, random_state=1):\n",
    "        self.eta = eta\n",
    "        self.n_iter = n_iter\n",
    "        self.random_state = random_state\n",
    "    \n",
    "    def fit(self, X, y):\n",
    "        rand = np.random.RandomState(self.random_state)\n",
    "        self.w_ = rand.normal(loc=0.0, scale=0.01, size=1 + X.shape[1])\n",
    "        self.errors_ = []\n",
    "        \n",
    "        for _ in range(self.n_iter):\n",
    "            errors = 0\n",
    "            for xi, target in zip(X, y):\n",
    "                update = self.eta * (target - self.predict(xi))\n",
    "                self.w_[1:] += update * xi\n",
    "                self.w_[0] += update\n",
    "                errors += int(update != 0.0)\n",
    "            self.errors_.append(errors)\n",
    "        return self\n",
    "\n",
    "    def net_input(self, X):\n",
    "        return np.dot(X, self.w_[1:]) + self.w_[0]\n",
    "    \n",
    "    def predict(self, X):\n",
    "        return np.where(self.net_input(X) >= 0.0, 1, -1)"
   ]
  },
  {
   "cell_type": "markdown",
   "metadata": {},
   "source": [
    "# Converged perceptron training example"
   ]
  },
  {
   "cell_type": "code",
   "execution_count": 90,
   "metadata": {},
   "outputs": [
    {
     "data": {
      "text/plain": [
       "Text(0, 0.5, 'Amount of updates')"
      ]
     },
     "execution_count": 90,
     "metadata": {},
     "output_type": "execute_result"
    },
    {
     "data": {
      "image/png": "[encoded data removed]",
      "text/plain": [
       "<Figure size 432x288 with 1 Axes>"
      ]
     },
     "metadata": {},
     "output_type": "display_data"
    }
   ],
   "source": [
    "ppn = Perceptron(eta=0.7, n_iter=10)\n",
    "ppn.fit(X, y)\n",
    "plt.plot(range(1, len(ppn.errors_) + 1), ppn.errors_, marker=\"o\")\n",
    "plt.xlabel(\"Epochs\")\n",
    "plt.ylabel(\"Amount of updates\")"
   ]
  },
  {
   "cell_type": "code",
   "execution_count": null,
   "metadata": {},
   "outputs": [],
   "source": []
  }
 ],
 "metadata": {
  "kernelspec": {
   "display_name": "Python 3.8 - Tensorflow",
   "language": "python",
   "name": "azureml_py38_tensorflow"
  },
  "language_info": {
   "codemirror_mode": {
    "name": "ipython",
    "version": 3
   },
   "file_extension": ".py",
   "mimetype": "text/x-python",
   "name": "python",
   "nbconvert_exporter": "python",
   "pygments_lexer": "ipython3",
   "version": "3.8.1"
  },
  "orig_nbformat": 4
 },
 "nbformat": 4,
 "nbformat_minor": 2
}
