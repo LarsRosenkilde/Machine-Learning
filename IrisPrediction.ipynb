{
 "cells": [
  {
   "cell_type": "code",
   "execution_count": 35,
   "metadata": {},
   "outputs": [],
   "source": [
    "%matplotlib inline\n",
    "\n",
    "import os\n",
    "import sklearn\n",
    "import numpy as np\n",
    "import pandas as pd\n",
    "from matplotlib import pyplot as plt\n",
    "from sklearn import preprocessing, datasets\n",
    "from sklearn.neighbors import KNeighborsClassifier\n",
    "\n",
    "plt.style.use(\"ggplot\")"
   ]
  },
  {
   "cell_type": "markdown",
   "metadata": {},
   "source": [
    "# Load and parse Iris data set from URL"
   ]
  },
  {
   "cell_type": "code",
   "execution_count": 36,
   "metadata": {},
   "outputs": [],
   "source": [
    "iris = os.path.join(\"https://archive.ics.uci.edu\", \"ml\", \"machine-learning-databases\", \"iris\", \"iris.data\")\n",
    "data = pd.read_csv(iris, header=None, encoding=\"utf-8\")"
   ]
  },
  {
   "cell_type": "markdown",
   "metadata": {},
   "source": [
    "# Process and clean the data"
   ]
  },
  {
   "cell_type": "code",
   "execution_count": 37,
   "metadata": {},
   "outputs": [],
   "source": [
    "proc = preprocessing.LabelEncoder()\n",
    "sepal_length = proc.fit_transform(list(data[0]))\n",
    "sepal_width = proc.fit_transform(list(data[1]))\n",
    "petal_length = proc.fit_transform(list(data[2]))\n",
    "petal_width = proc.fit_transform(list(data[3]))\n",
    "species = proc.fit_transform(list(data[4]))\n",
    "\n",
    "predict = 4 # Species \n",
    "\n",
    "x = list(zip(sepal_length, sepal_width, petal_length, petal_width))\n",
    "y = list(species)"
   ]
  },
  {
   "cell_type": "markdown",
   "metadata": {},
   "source": [
    "# Train and predict species"
   ]
  },
  {
   "cell_type": "code",
   "execution_count": 39,
   "metadata": {},
   "outputs": [],
   "source": [
    "variations = [\"Iris-setosa\", \"Iris-versicolor\", \"Iris-virginica\"]\n",
    "best = 0\n",
    "worst = 100\n",
    "results = []\n",
    "\n",
    "for i in range(105):\n",
    "    x_train, x_test, y_train, y_test = sklearn.model_selection.train_test_split(x, y, test_size=0.7)\n",
    "\n",
    "    model = KNeighborsClassifier(n_neighbors=5)\n",
    "    model.fit(x_train, y_train)\n",
    "    \n",
    "    accuracy = model.score(x_test, y_test)\n",
    "    if accuracy > best:\n",
    "        best = accuracy\n",
    "    elif accuracy < worst:\n",
    "        worst = accuracy\n",
    "    \n",
    "    prediction = model.predict(x_test)\n",
    "    results.append(f\"Prediction:\\t{variations[prediction[i]].ljust(10)}\\t\\tActual: {variations[y_test[i]].ljust(10)}\\t\\tAccuracy: {str(round(accuracy * 100, 2)).ljust(5)}%\\tData: {x_test[i]}\")"
   ]
  },
  {
   "cell_type": "code",
   "execution_count": 40,
   "metadata": {},
   "outputs": [
    {
     "name": "stdout",
     "output_type": "stream",
     "text": [
      "Prediction:\tIris-virginica\t\tActual: Iris-virginica\t\tAccuracy: 93.33%\tData: (14, 7, 21, 9)\n",
      "Prediction:\tIris-virginica\t\tActual: Iris-virginica\t\tAccuracy: 94.29%\tData: (17, 1, 16, 6)\n",
      "Prediction:\tIris-virginica\t\tActual: Iris-virginica\t\tAccuracy: 97.14%\tData: (12, 2, 16, 9)\n",
      "Prediction:\tIris-virginica\t\tActual: Iris-versicolor\t\tAccuracy: 93.33%\tData: (14, 4, 26, 16)\n",
      "Prediction:\tIris-setosa\t\tActual: Iris-setosa\t\tAccuracy: 94.29%\tData: (5, 13, 6, 1)\n",
      "Prediction:\tIris-versicolor\t\tActual: Iris-versicolor\t\tAccuracy: 91.43%\tData: (22, 9, 34, 18)\n",
      "Prediction:\tIris-setosa\t\tActual: Iris-setosa\t\tAccuracy: 94.29%\tData: (1, 11, 3, 1)\n",
      "Prediction:\tIris-virginica\t\tActual: Iris-virginica\t\tAccuracy: 97.14%\tData: (23, 8, 22, 9)\n",
      "Prediction:\tIris-versicolor\t\tActual: Iris-versicolor\t\tAccuracy: 96.19%\tData: (21, 10, 31, 14)\n",
      "Prediction:\tIris-setosa\t\tActual: Iris-setosa\t\tAccuracy: 92.38%\tData: (15, 19, 2, 1)\n",
      "Prediction:\tIris-versicolor\t\tActual: Iris-versicolor\t\tAccuracy: 97.14%\tData: (20, 8, 32, 14)\n",
      "Prediction:\tIris-versicolor\t\tActual: Iris-versicolor\t\tAccuracy: 96.19%\tData: (29, 15, 37, 21)\n",
      "Prediction:\tIris-setosa\t\tActual: Iris-setosa\t\tAccuracy: 96.19%\tData: (11, 18, 3, 3)\n",
      "Prediction:\tIris-versicolor\t\tActual: Iris-versicolor\t\tAccuracy: 97.14%\tData: (17, 1, 26, 11)\n",
      "Prediction:\tIris-virginica\t\tActual: Iris-virginica\t\tAccuracy: 88.57%\tData: (19, 1, 21, 11)\n",
      "Prediction:\tIris-versicolor\t\tActual: Iris-versicolor\t\tAccuracy: 94.29%\tData: (13, 7, 25, 16)\n",
      "Prediction:\tIris-setosa\t\tActual: Iris-setosa\t\tAccuracy: 96.19%\tData: (7, 13, 6, 3)\n",
      "Prediction:\tIris-versicolor\t\tActual: Iris-versicolor\t\tAccuracy: 97.14%\tData: (33, 9, 37, 19)\n",
      "Prediction:\tIris-setosa\t\tActual: Iris-setosa\t\tAccuracy: 91.43%\tData: (6, 9, 4, 1)\n",
      "Prediction:\tIris-virginica\t\tActual: Iris-virginica\t\tAccuracy: 98.1 %\tData: (20, 2, 20, 9)\n",
      "Prediction:\tIris-setosa\t\tActual: Iris-setosa\t\tAccuracy: 94.29%\tData: (11, 18, 3, 3)\n",
      "Prediction:\tIris-virginica\t\tActual: Iris-virginica\t\tAccuracy: 95.24%\tData: (17, 8, 21, 11)\n",
      "Prediction:\tIris-virginica\t\tActual: Iris-virginica\t\tAccuracy: 95.24%\tData: (24, 10, 23, 11)\n",
      "Prediction:\tIris-setosa\t\tActual: Iris-setosa\t\tAccuracy: 95.24%\tData: (7, 14, 6, 5)\n",
      "Prediction:\tIris-virginica\t\tActual: Iris-virginica\t\tAccuracy: 95.24%\tData: (8, 4, 9, 7)\n",
      "Prediction:\tIris-setosa\t\tActual: Iris-setosa\t\tAccuracy: 91.43%\tData: (11, 18, 7, 3)\n",
      "Prediction:\tIris-virginica\t\tActual: Iris-virginica\t\tAccuracy: 87.62%\tData: (20, 4, 25, 11)\n",
      "Prediction:\tIris-versicolor\t\tActual: Iris-versicolor\t\tAccuracy: 96.19%\tData: (21, 6, 29, 15)\n",
      "Prediction:\tIris-versicolor\t\tActual: Iris-versicolor\t\tAccuracy: 94.29%\tData: (29, 11, 36, 14)\n",
      "Prediction:\tIris-virginica\t\tActual: Iris-virginica\t\tAccuracy: 97.14%\tData: (13, 9, 21, 11)\n",
      "Prediction:\tIris-setosa\t\tActual: Iris-setosa\t\tAccuracy: 94.29%\tData: (11, 18, 7, 3)\n",
      "Prediction:\tIris-setosa\t\tActual: Iris-setosa\t\tAccuracy: 96.19%\tData: (5, 13, 8, 1)\n",
      "Prediction:\tIris-setosa\t\tActual: Iris-setosa\t\tAccuracy: 94.29%\tData: (6, 10, 5, 0)\n",
      "Prediction:\tIris-setosa\t\tActual: Iris-setosa\t\tAccuracy: 97.14%\tData: (14, 17, 7, 2)\n",
      "Prediction:\tIris-virginica\t\tActual: Iris-virginica\t\tAccuracy: 96.19%\tData: (19, 8, 19, 9)\n",
      "Prediction:\tIris-versicolor\t\tActual: Iris-versicolor\t\tAccuracy: 96.19%\tData: (26, 10, 27, 19)\n",
      "Prediction:\tIris-setosa\t\tActual: Iris-setosa\t\tAccuracy: 97.14%\tData: (7, 14, 6, 5)\n",
      "Prediction:\tIris-setosa\t\tActual: Iris-setosa\t\tAccuracy: 94.29%\tData: (3, 15, 0, 1)\n",
      "Prediction:\tIris-versicolor\t\tActual: Iris-versicolor\t\tAccuracy: 92.38%\tData: (17, 1, 26, 11)\n",
      "Prediction:\tIris-versicolor\t\tActual: Iris-versicolor\t\tAccuracy: 97.14%\tData: (30, 8, 38, 14)\n",
      "Prediction:\tIris-setosa\t\tActual: Iris-setosa\t\tAccuracy: 96.19%\tData: (7, 12, 4, 1)\n",
      "Prediction:\tIris-virginica\t\tActual: Iris-virginica\t\tAccuracy: 93.33%\tData: (15, 5, 16, 8)\n",
      "Prediction:\tIris-virginica\t\tActual: Iris-virginica\t\tAccuracy: 96.19%\tData: (18, 7, 16, 9)\n",
      "Prediction:\tIris-setosa\t\tActual: Iris-setosa\t\tAccuracy: 96.19%\tData: (6, 10, 5, 0)\n",
      "Prediction:\tIris-virginica\t\tActual: Iris-virginica\t\tAccuracy: 98.1 %\tData: (11, 9, 21, 11)\n",
      "Prediction:\tIris-virginica\t\tActual: Iris-virginica\t\tAccuracy: 97.14%\tData: (20, 12, 23, 12)\n",
      "Prediction:\tIris-versicolor\t\tActual: Iris-versicolor\t\tAccuracy: 98.1 %\tData: (33, 7, 41, 16)\n",
      "Prediction:\tIris-virginica\t\tActual: Iris-virginica\t\tAccuracy: 96.19%\tData: (24, 10, 20, 10)\n",
      "Prediction:\tIris-virginica\t\tActual: Iris-versicolor\t\tAccuracy: 97.14%\tData: (17, 9, 24, 14)\n",
      "Prediction:\tIris-setosa\t\tActual: Iris-setosa\t\tAccuracy: 96.19%\tData: (4, 11, 3, 1)\n",
      "Prediction:\tIris-setosa\t\tActual: Iris-setosa\t\tAccuracy: 92.38%\tData: (7, 13, 5, 1)\n",
      "Prediction:\tIris-virginica\t\tActual: Iris-virginica\t\tAccuracy: 96.19%\tData: (8, 4, 9, 7)\n",
      "Prediction:\tIris-setosa\t\tActual: Iris-setosa\t\tAccuracy: 93.33%\tData: (4, 11, 3, 1)\n",
      "Prediction:\tIris-versicolor\t\tActual: Iris-versicolor\t\tAccuracy: 96.19%\tData: (19, 7, 24, 14)\n",
      "Prediction:\tIris-virginica\t\tActual: Iris-virginica\t\tAccuracy: 94.29%\tData: (14, 9, 18, 8)\n",
      "Prediction:\tIris-versicolor\t\tActual: Iris-versicolor\t\tAccuracy: 95.24%\tData: (33, 5, 42, 19)\n",
      "Prediction:\tIris-versicolor\t\tActual: Iris-versicolor\t\tAccuracy: 95.24%\tData: (26, 10, 30, 17)\n",
      "Prediction:\tIris-virginica\t\tActual: Iris-virginica\t\tAccuracy: 98.1 %\tData: (8, 4, 9, 7)\n",
      "Prediction:\tIris-versicolor\t\tActual: Iris-versicolor\t\tAccuracy: 96.19%\tData: (24, 12, 33, 21)\n",
      "Prediction:\tIris-versicolor\t\tActual: Iris-versicolor\t\tAccuracy: 94.29%\tData: (20, 4, 26, 15)\n",
      "Prediction:\tIris-versicolor\t\tActual: Iris-versicolor\t\tAccuracy: 94.29%\tData: (17, 9, 24, 14)\n",
      "Prediction:\tIris-versicolor\t\tActual: Iris-versicolor\t\tAccuracy: 95.24%\tData: (24, 12, 33, 21)\n",
      "Prediction:\tIris-virginica\t\tActual: Iris-virginica\t\tAccuracy: 98.1 %\tData: (13, 8, 12, 9)\n",
      "Prediction:\tIris-virginica\t\tActual: Iris-virginica\t\tAccuracy: 96.19%\tData: (27, 11, 23, 10)\n",
      "Prediction:\tIris-virginica\t\tActual: Iris-virginica\t\tAccuracy: 96.19%\tData: (23, 8, 22, 9)\n",
      "Prediction:\tIris-versicolor\t\tActual: Iris-versicolor\t\tAccuracy: 94.29%\tData: (33, 5, 42, 19)\n",
      "Prediction:\tIris-virginica\t\tActual: Iris-virginica\t\tAccuracy: 96.19%\tData: (15, 6, 15, 8)\n",
      "Prediction:\tIris-virginica\t\tActual: Iris-virginica\t\tAccuracy: 98.1 %\tData: (23, 9, 20, 10)\n",
      "Prediction:\tIris-setosa\t\tActual: Iris-setosa\t\tAccuracy: 95.24%\tData: (8, 13, 5, 1)\n",
      "Prediction:\tIris-versicolor\t\tActual: Iris-versicolor\t\tAccuracy: 93.33%\tData: (24, 4, 34, 14)\n",
      "Prediction:\tIris-versicolor\t\tActual: Iris-versicolor\t\tAccuracy: 98.1 %\tData: (19, 7, 24, 14)\n",
      "Prediction:\tIris-versicolor\t\tActual: Iris-versicolor\t\tAccuracy: 97.14%\tData: (15, 6, 27, 15)\n",
      "Prediction:\tIris-setosa\t\tActual: Iris-setosa\t\tAccuracy: 95.24%\tData: (3, 11, 4, 1)\n",
      "Prediction:\tIris-virginica\t\tActual: Iris-virginica\t\tAccuracy: 90.48%\tData: (15, 5, 16, 8)\n",
      "Prediction:\tIris-setosa\t\tActual: Iris-setosa\t\tAccuracy: 97.14%\tData: (11, 16, 5, 1)\n",
      "Prediction:\tIris-setosa\t\tActual: Iris-setosa\t\tAccuracy: 97.14%\tData: (8, 17, 6, 1)\n",
      "Prediction:\tIris-setosa\t\tActual: Iris-setosa\t\tAccuracy: 96.19%\tData: (7, 12, 4, 1)\n",
      "Prediction:\tIris-versicolor\t\tActual: Iris-versicolor\t\tAccuracy: 86.67%\tData: (24, 12, 33, 17)\n",
      "Prediction:\tIris-setosa\t\tActual: Iris-setosa\t\tAccuracy: 96.19%\tData: (10, 16, 5, 1)\n",
      "Prediction:\tIris-virginica\t\tActual: Iris-virginica\t\tAccuracy: 93.33%\tData: (13, 9, 21, 11)\n",
      "Prediction:\tIris-virginica\t\tActual: Iris-virginica\t\tAccuracy: 92.38%\tData: (19, 1, 21, 11)\n",
      "Prediction:\tIris-setosa\t\tActual: Iris-setosa\t\tAccuracy: 96.19%\tData: (12, 14, 3, 1)\n",
      "Prediction:\tIris-virginica\t\tActual: Iris-virginica\t\tAccuracy: 93.33%\tData: (19, 8, 19, 9)\n",
      "Prediction:\tIris-virginica\t\tActual: Iris-virginica\t\tAccuracy: 98.1 %\tData: (17, 13, 21, 12)\n",
      "Prediction:\tIris-setosa\t\tActual: Iris-setosa\t\tAccuracy: 97.14%\tData: (5, 9, 4, 0)\n",
      "Prediction:\tIris-setosa\t\tActual: Iris-setosa\t\tAccuracy: 94.29%\tData: (11, 13, 7, 1)\n",
      "Prediction:\tIris-versicolor\t\tActual: Iris-versicolor\t\tAccuracy: 90.48%\tData: (30, 8, 38, 14)\n",
      "Prediction:\tIris-virginica\t\tActual: Iris-virginica\t\tAccuracy: 96.19%\tData: (17, 8, 21, 11)\n",
      "Prediction:\tIris-setosa\t\tActual: Iris-setosa\t\tAccuracy: 95.24%\tData: (5, 13, 6, 1)\n",
      "Prediction:\tIris-versicolor\t\tActual: Iris-versicolor\t\tAccuracy: 92.38%\tData: (31, 7, 37, 15)\n",
      "Prediction:\tIris-versicolor\t\tActual: Iris-versicolor\t\tAccuracy: 97.14%\tData: (20, 8, 32, 14)\n",
      "Prediction:\tIris-versicolor\t\tActual: Iris-versicolor\t\tAccuracy: 98.1 %\tData: (19, 13, 30, 19)\n",
      "Prediction:\tIris-versicolor\t\tActual: Iris-versicolor\t\tAccuracy: 96.19%\tData: (32, 9, 40, 17)\n",
      "Prediction:\tIris-setosa\t\tActual: Iris-setosa\t\tAccuracy: 94.29%\tData: (14, 17, 7, 2)\n",
      "Prediction:\tIris-virginica\t\tActual: Iris-virginica\t\tAccuracy: 94.29%\tData: (19, 1, 21, 11)\n",
      "Prediction:\tIris-versicolor\t\tActual: Iris-versicolor\t\tAccuracy: 98.1 %\tData: (20, 8, 32, 14)\n",
      "Prediction:\tIris-setosa\t\tActual: Iris-setosa\t\tAccuracy: 94.29%\tData: (1, 11, 3, 1)\n",
      "Prediction:\tIris-setosa\t\tActual: Iris-setosa\t\tAccuracy: 94.29%\tData: (9, 14, 5, 1)\n",
      "Prediction:\tIris-virginica\t\tActual: Iris-virginica\t\tAccuracy: 96.19%\tData: (19, 8, 19, 9)\n",
      "Prediction:\tIris-versicolor\t\tActual: Iris-versicolor\t\tAccuracy: 92.38%\tData: (20, 12, 36, 21)\n",
      "Prediction:\tIris-virginica\t\tActual: Iris-virginica\t\tAccuracy: 94.29%\tData: (24, 10, 23, 11)\n",
      "Prediction:\tIris-virginica\t\tActual: Iris-virginica\t\tAccuracy: 92.38%\tData: (7, 0, 11, 6)\n",
      "Prediction:\tIris-versicolor\t\tActual: Iris-versicolor\t\tAccuracy: 96.19%\tData: (24, 12, 33, 17)\n",
      "Prediction:\tIris-virginica\t\tActual: Iris-virginica\t\tAccuracy: 97.14%\tData: (7, 0, 11, 6)\n",
      "Prediction:\tIris-versicolor\t\tActual: Iris-versicolor\t\tAccuracy: 95.24%\tData: (20, 12, 36, 21)\n",
      "\n",
      "Highest Accuracy: 98.1%\n",
      "Worst Accuracy: 86.67%\n"
     ]
    }
   ],
   "source": [
    "for result in results:\n",
    "    print(result)\n",
    "    \n",
    "print(f\"\\nHighest Accuracy: {round((best * 100), 2)}%\")\n",
    "print(f\"Worst Accuracy: {round((worst * 100), 2)}%\")"
   ]
  },
  {
   "cell_type": "markdown",
   "metadata": {},
   "source": [
    "# Graphical illustration"
   ]
  },
  {
   "cell_type": "code",
   "execution_count": 41,
   "metadata": {},
   "outputs": [
    {
     "data": {
      "text/plain": [
       "<matplotlib.legend.Legend at 0x7faaa0c15a90>"
      ]
     },
     "execution_count": 41,
     "metadata": {},
     "output_type": "execute_result"
    },
    {
     "data": {
      "image/png": "[encoded data removed]",
      "text/plain": [
       "<Figure size 432x288 with 1 Axes>"
      ]
     },
     "metadata": {},
     "output_type": "display_data"
    }
   ],
   "source": [
    "# Y = data.iloc[0:100, 4].values\n",
    "# Y = np.where(Y == \"Iris-sentosa\", -1, 1)\n",
    "\n",
    "X = data.iloc[0:100, [0, 2]].values\n",
    "\n",
    "plt.scatter(X[:50, 0], X[:50, 1], color=\"red\", marker=\"o\", label=\"Setosa\")\n",
    "plt.scatter(X[50:100, 0], X[50:100, 1], color=\"green\", marker=\"x\", label=\"Versicolor\")\n",
    "\n",
    "plt.title(\"Iris Dataset Illustration\")\n",
    "plt.xlabel(\"Sepal length in cm\")\n",
    "plt.ylabel(\"Petal length in cm\")\n",
    "plt.grid(True)\n",
    "plt.legend()\n"
   ]
  },
  {
   "cell_type": "code",
   "execution_count": null,
   "metadata": {},
   "outputs": [],
   "source": []
  }
 ],
 "metadata": {
  "kernelspec": {
   "display_name": "Python 3.8 - Tensorflow",
   "language": "python",
   "name": "azureml_py38_tensorflow"
  },
  "language_info": {
   "codemirror_mode": {
    "name": "ipython",
    "version": 3
   },
   "file_extension": ".py",
   "mimetype": "text/x-python",
   "name": "python",
   "nbconvert_exporter": "python",
   "pygments_lexer": "ipython3",
   "version": "3.8.1"
  },
  "orig_nbformat": 4
 },
 "nbformat": 4,
 "nbformat_minor": 2
}
