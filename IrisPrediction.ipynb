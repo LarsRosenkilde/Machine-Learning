{
 "cells": [
  {
   "cell_type": "code",
   "execution_count": 81,
   "metadata": {},
   "outputs": [],
   "source": [
    "%matplotlib inline\n",
    "\n",
    "import os\n",
    "import sklearn\n",
    "import numpy as np\n",
    "import pandas as pd\n",
    "from matplotlib import pyplot as plt\n",
    "from sklearn import preprocessing, datasets\n",
    "from sklearn.neighbors import KNeighborsClassifier\n",
    "\n",
    "plt.style.use(\"ggplot\")"
   ]
  },
  {
   "cell_type": "markdown",
   "metadata": {},
   "source": [
    "# Load and parse Iris data set from URL"
   ]
  },
  {
   "cell_type": "code",
   "execution_count": 82,
   "metadata": {},
   "outputs": [],
   "source": [
    "iris = os.path.join(\"https://archive.ics.uci.edu\", \"ml\", \"machine-learning-databases\", \"iris\", \"iris.data\")\n",
    "data = pd.read_csv(iris, header=None, encoding=\"utf-8\")"
   ]
  },
  {
   "cell_type": "markdown",
   "metadata": {},
   "source": [
    "# Process and clean the data"
   ]
  },
  {
   "cell_type": "code",
   "execution_count": 83,
   "metadata": {},
   "outputs": [],
   "source": [
    "proc = preprocessing.LabelEncoder()\n",
    "sepal_length = proc.fit_transform(list(data[0]))\n",
    "sepal_width = proc.fit_transform(list(data[1]))\n",
    "petal_length = proc.fit_transform(list(data[2]))\n",
    "petal_width = proc.fit_transform(list(data[3]))\n",
    "species = proc.fit_transform(list(data[4]))\n",
    "\n",
    "predict = 4 # Species \n",
    "\n",
    "x = list(zip(sepal_length, sepal_width, petal_length, petal_width))\n",
    "y = list(species)"
   ]
  },
  {
   "cell_type": "markdown",
   "metadata": {},
   "source": [
    "# Train and predict species"
   ]
  },
  {
   "cell_type": "code",
   "execution_count": 84,
   "metadata": {},
   "outputs": [],
   "source": [
    "variations = [\"Iris-setosa\", \"Iris-versicolor\", \"Iris-virginica\"]\n",
    "best = 0\n",
    "worst = 100\n",
    "results = []\n",
    "\n",
    "for i in range(105):\n",
    "    x_train, x_test, y_train, y_test = sklearn.model_selection.train_test_split(x, y, test_size=0.7)\n",
    "\n",
    "    model = KNeighborsClassifier(n_neighbors=5)\n",
    "    model.fit(x_train, y_train)\n",
    "    \n",
    "    accuracy = model.score(x_test, y_test)\n",
    "    if accuracy > best:\n",
    "        best = accuracy\n",
    "    elif accuracy < worst:\n",
    "        worst = accuracy\n",
    "    \n",
    "    prediction = model.predict(x_test)\n",
    "    results.append(f\"Prediction:\\t{variations[prediction[i]].ljust(10)}\\t\\tActual: {variations[y_test[i]].ljust(10)}\\t\\tAccuracy: {str(round(accuracy * 100, 2)).ljust(5)}%\\tData: {x_test[i]}\")"
   ]
  },
  {
   "cell_type": "code",
   "execution_count": 85,
   "metadata": {},
   "outputs": [
    {
     "name": "stdout",
     "output_type": "stream",
     "text": [
      "Prediction:\tIris-versicolor\t\tActual: Iris-versicolor\t\tAccuracy: 96.19%\tData: (14, 7, 17, 9)\n",
      "Prediction:\tIris-virginica\t\tActual: Iris-virginica\t\tAccuracy: 93.33%\tData: (20, 7, 27, 11)\n",
      "Prediction:\tIris-versicolor\t\tActual: Iris-versicolor\t\tAccuracy: 93.33%\tData: (23, 9, 20, 10)\n",
      "Prediction:\tIris-virginica\t\tActual: Iris-versicolor\t\tAccuracy: 92.38%\tData: (17, 6, 27, 12)\n",
      "Prediction:\tIris-versicolor\t\tActual: Iris-versicolor\t\tAccuracy: 94.29%\tData: (12, 4, 16, 9)\n",
      "Prediction:\tIris-versicolor\t\tActual: Iris-versicolor\t\tAccuracy: 93.33%\tData: (17, 8, 21, 11)\n",
      "Prediction:\tIris-versicolor\t\tActual: Iris-versicolor\t\tAccuracy: 99.05%\tData: (19, 1, 21, 11)\n",
      "Prediction:\tIris-setosa\t\tActual: Iris-setosa\t\tAccuracy: 96.19%\tData: (7, 9, 6, 1)\n",
      "Prediction:\tIris-versicolor\t\tActual: Iris-versicolor\t\tAccuracy: 97.14%\tData: (14, 8, 18, 9)\n",
      "Prediction:\tIris-versicolor\t\tActual: Iris-versicolor\t\tAccuracy: 93.33%\tData: (20, 4, 25, 11)\n",
      "Prediction:\tIris-versicolor\t\tActual: Iris-versicolor\t\tAccuracy: 97.14%\tData: (22, 7, 22, 11)\n",
      "Prediction:\tIris-setosa\t\tActual: Iris-setosa\t\tAccuracy: 91.43%\tData: (7, 11, 2, 1)\n",
      "Prediction:\tIris-virginica\t\tActual: Iris-virginica\t\tAccuracy: 88.57%\tData: (30, 8, 38, 14)\n",
      "Prediction:\tIris-versicolor\t\tActual: Iris-versicolor\t\tAccuracy: 91.43%\tData: (16, 11, 24, 14)\n",
      "Prediction:\tIris-virginica\t\tActual: Iris-virginica\t\tAccuracy: 96.19%\tData: (20, 6, 25, 14)\n",
      "Prediction:\tIris-setosa\t\tActual: Iris-setosa\t\tAccuracy: 94.29%\tData: (6, 10, 5, 0)\n",
      "Prediction:\tIris-virginica\t\tActual: Iris-virginica\t\tAccuracy: 96.19%\tData: (19, 7, 24, 14)\n",
      "Prediction:\tIris-setosa\t\tActual: Iris-setosa\t\tAccuracy: 96.19%\tData: (7, 13, 5, 1)\n",
      "Prediction:\tIris-setosa\t\tActual: Iris-setosa\t\tAccuracy: 93.33%\tData: (5, 13, 8, 1)\n",
      "Prediction:\tIris-versicolor\t\tActual: Iris-versicolor\t\tAccuracy: 94.29%\tData: (14, 7, 21, 9)\n",
      "Prediction:\tIris-virginica\t\tActual: Iris-virginica\t\tAccuracy: 95.24%\tData: (22, 9, 34, 18)\n",
      "Prediction:\tIris-setosa\t\tActual: Iris-setosa\t\tAccuracy: 96.19%\tData: (8, 14, 4, 2)\n",
      "Prediction:\tIris-setosa\t\tActual: Iris-setosa\t\tAccuracy: 96.19%\tData: (1, 8, 4, 1)\n",
      "Prediction:\tIris-versicolor\t\tActual: Iris-versicolor\t\tAccuracy: 92.38%\tData: (24, 9, 26, 13)\n",
      "Prediction:\tIris-setosa\t\tActual: Iris-setosa\t\tAccuracy: 95.24%\tData: (4, 11, 6, 1)\n",
      "Prediction:\tIris-setosa\t\tActual: Iris-setosa\t\tAccuracy: 98.1 %\tData: (8, 17, 5, 2)\n",
      "Prediction:\tIris-setosa\t\tActual: Iris-setosa\t\tAccuracy: 96.19%\tData: (11, 16, 5, 1)\n",
      "Prediction:\tIris-versicolor\t\tActual: Iris-versicolor\t\tAccuracy: 95.24%\tData: (7, 2, 10, 6)\n",
      "Prediction:\tIris-setosa\t\tActual: Iris-setosa\t\tAccuracy: 97.14%\tData: (14, 17, 7, 2)\n",
      "Prediction:\tIris-versicolor\t\tActual: Iris-versicolor\t\tAccuracy: 97.14%\tData: (13, 4, 15, 7)\n",
      "Prediction:\tIris-virginica\t\tActual: Iris-virginica\t\tAccuracy: 96.19%\tData: (33, 5, 42, 19)\n",
      "Prediction:\tIris-virginica\t\tActual: Iris-virginica\t\tAccuracy: 94.29%\tData: (20, 4, 26, 15)\n",
      "Prediction:\tIris-virginica\t\tActual: Iris-virginica\t\tAccuracy: 91.43%\tData: (22, 9, 31, 14)\n",
      "Prediction:\tIris-virginica\t\tActual: Iris-virginica\t\tAccuracy: 95.24%\tData: (25, 9, 31, 17)\n",
      "Prediction:\tIris-setosa\t\tActual: Iris-setosa\t\tAccuracy: 94.29%\tData: (8, 13, 5, 1)\n",
      "Prediction:\tIris-versicolor\t\tActual: Iris-versicolor\t\tAccuracy: 94.29%\tData: (24, 9, 26, 13)\n",
      "Prediction:\tIris-virginica\t\tActual: Iris-virginica\t\tAccuracy: 97.14%\tData: (25, 11, 35, 19)\n",
      "Prediction:\tIris-versicolor\t\tActual: Iris-versicolor\t\tAccuracy: 92.38%\tData: (17, 13, 21, 12)\n",
      "Prediction:\tIris-setosa\t\tActual: Iris-setosa\t\tAccuracy: 96.19%\tData: (7, 9, 6, 1)\n",
      "Prediction:\tIris-virginica\t\tActual: Iris-virginica\t\tAccuracy: 93.33%\tData: (22, 11, 27, 16)\n",
      "Prediction:\tIris-setosa\t\tActual: Iris-setosa\t\tAccuracy: 96.19%\tData: (11, 18, 3, 3)\n",
      "Prediction:\tIris-versicolor\t\tActual: Iris-versicolor\t\tAccuracy: 98.1 %\tData: (26, 10, 25, 11)\n",
      "Prediction:\tIris-virginica\t\tActual: Iris-virginica\t\tAccuracy: 98.1 %\tData: (22, 11, 27, 16)\n",
      "Prediction:\tIris-versicolor\t\tActual: Iris-versicolor\t\tAccuracy: 93.33%\tData: (7, 2, 10, 6)\n",
      "Prediction:\tIris-virginica\t\tActual: Iris-virginica\t\tAccuracy: 93.33%\tData: (15, 6, 27, 15)\n",
      "Prediction:\tIris-versicolor\t\tActual: Iris-versicolor\t\tAccuracy: 96.19%\tData: (26, 10, 25, 11)\n",
      "Prediction:\tIris-versicolor\t\tActual: Iris-versicolor\t\tAccuracy: 96.19%\tData: (15, 5, 16, 8)\n",
      "Prediction:\tIris-setosa\t\tActual: Iris-setosa\t\tAccuracy: 92.38%\tData: (10, 16, 5, 1)\n",
      "Prediction:\tIris-versicolor\t\tActual: Iris-versicolor\t\tAccuracy: 94.29%\tData: (24, 9, 26, 13)\n",
      "Prediction:\tIris-virginica\t\tActual: Iris-virginica\t\tAccuracy: 97.14%\tData: (25, 11, 35, 19)\n",
      "Prediction:\tIris-setosa\t\tActual: Iris-setosa\t\tAccuracy: 93.33%\tData: (9, 14, 5, 1)\n",
      "Prediction:\tIris-virginica\t\tActual: Iris-versicolor\t\tAccuracy: 98.1 %\tData: (17, 6, 27, 12)\n",
      "Prediction:\tIris-setosa\t\tActual: Iris-setosa\t\tAccuracy: 95.24%\tData: (5, 10, 6, 1)\n",
      "Prediction:\tIris-virginica\t\tActual: Iris-virginica\t\tAccuracy: 98.1 %\tData: (34, 17, 39, 16)\n",
      "Prediction:\tIris-virginica\t\tActual: Iris-virginica\t\tAccuracy: 98.1 %\tData: (19, 13, 30, 19)\n",
      "Prediction:\tIris-setosa\t\tActual: Iris-setosa\t\tAccuracy: 96.19%\tData: (1, 9, 3, 1)\n",
      "Prediction:\tIris-virginica\t\tActual: Iris-virginica\t\tAccuracy: 96.19%\tData: (31, 7, 37, 15)\n",
      "Prediction:\tIris-versicolor\t\tActual: Iris-versicolor\t\tAccuracy: 92.38%\tData: (12, 3, 13, 6)\n",
      "Prediction:\tIris-setosa\t\tActual: Iris-setosa\t\tAccuracy: 93.33%\tData: (7, 12, 4, 1)\n",
      "Prediction:\tIris-setosa\t\tActual: Iris-setosa\t\tAccuracy: 98.1 %\tData: (8, 17, 6, 1)\n",
      "Prediction:\tIris-setosa\t\tActual: Iris-setosa\t\tAccuracy: 94.29%\tData: (11, 16, 5, 1)\n",
      "Prediction:\tIris-setosa\t\tActual: Iris-setosa\t\tAccuracy: 94.29%\tData: (7, 13, 5, 1)\n",
      "Prediction:\tIris-versicolor\t\tActual: Iris-versicolor\t\tAccuracy: 100.0%\tData: (13, 4, 15, 7)\n",
      "Prediction:\tIris-setosa\t\tActual: Iris-setosa\t\tAccuracy: 96.19%\tData: (8, 16, 5, 3)\n",
      "Prediction:\tIris-virginica\t\tActual: Iris-versicolor\t\tAccuracy: 79.05%\tData: (17, 13, 21, 12)\n",
      "Prediction:\tIris-versicolor\t\tActual: Iris-versicolor\t\tAccuracy: 97.14%\tData: (18, 8, 23, 10)\n",
      "Prediction:\tIris-setosa\t\tActual: Iris-setosa\t\tAccuracy: 95.24%\tData: (11, 18, 3, 3)\n",
      "Prediction:\tIris-virginica\t\tActual: Iris-virginica\t\tAccuracy: 98.1 %\tData: (31, 7, 37, 15)\n",
      "Prediction:\tIris-versicolor\t\tActual: Iris-virginica\t\tAccuracy: 91.43%\tData: (20, 7, 27, 11)\n",
      "Prediction:\tIris-virginica\t\tActual: Iris-versicolor\t\tAccuracy: 97.14%\tData: (24, 9, 26, 13)\n",
      "Prediction:\tIris-setosa\t\tActual: Iris-setosa\t\tAccuracy: 96.19%\tData: (3, 15, 0, 1)\n",
      "Prediction:\tIris-virginica\t\tActual: Iris-virginica\t\tAccuracy: 96.19%\tData: (20, 4, 26, 15)\n",
      "Prediction:\tIris-versicolor\t\tActual: Iris-versicolor\t\tAccuracy: 93.33%\tData: (14, 7, 17, 9)\n",
      "Prediction:\tIris-versicolor\t\tActual: Iris-versicolor\t\tAccuracy: 94.29%\tData: (12, 3, 13, 6)\n",
      "Prediction:\tIris-virginica\t\tActual: Iris-virginica\t\tAccuracy: 94.29%\tData: (22, 11, 27, 16)\n",
      "Prediction:\tIris-versicolor\t\tActual: Iris-versicolor\t\tAccuracy: 97.14%\tData: (9, 6, 15, 10)\n",
      "Prediction:\tIris-setosa\t\tActual: Iris-setosa\t\tAccuracy: 95.24%\tData: (5, 13, 6, 1)\n",
      "Prediction:\tIris-versicolor\t\tActual: Iris-versicolor\t\tAccuracy: 96.19%\tData: (14, 5, 11, 6)\n",
      "Prediction:\tIris-setosa\t\tActual: Iris-setosa\t\tAccuracy: 93.33%\tData: (7, 15, 4, 1)\n",
      "Prediction:\tIris-setosa\t\tActual: Iris-setosa\t\tAccuracy: 95.24%\tData: (7, 9, 6, 1)\n",
      "Prediction:\tIris-virginica\t\tActual: Iris-versicolor\t\tAccuracy: 97.14%\tData: (18, 8, 23, 10)\n",
      "Prediction:\tIris-virginica\t\tActual: Iris-virginica\t\tAccuracy: 83.81%\tData: (21, 7, 32, 18)\n",
      "Prediction:\tIris-versicolor\t\tActual: Iris-versicolor\t\tAccuracy: 95.24%\tData: (15, 6, 17, 6)\n",
      "Prediction:\tIris-virginica\t\tActual: Iris-virginica\t\tAccuracy: 96.19%\tData: (31, 7, 37, 15)\n",
      "Prediction:\tIris-virginica\t\tActual: Iris-virginica\t\tAccuracy: 97.14%\tData: (15, 7, 27, 20)\n",
      "Prediction:\tIris-versicolor\t\tActual: Iris-versicolor\t\tAccuracy: 96.19%\tData: (13, 9, 21, 11)\n",
      "Prediction:\tIris-setosa\t\tActual: Iris-setosa\t\tAccuracy: 96.19%\tData: (0, 9, 1, 0)\n",
      "Prediction:\tIris-virginica\t\tActual: Iris-virginica\t\tAccuracy: 92.38%\tData: (24, 12, 33, 17)\n",
      "Prediction:\tIris-setosa\t\tActual: Iris-setosa\t\tAccuracy: 95.24%\tData: (11, 18, 7, 3)\n",
      "Prediction:\tIris-setosa\t\tActual: Iris-setosa\t\tAccuracy: 94.29%\tData: (1, 9, 3, 1)\n",
      "Prediction:\tIris-setosa\t\tActual: Iris-setosa\t\tAccuracy: 95.24%\tData: (2, 2, 3, 2)\n",
      "Prediction:\tIris-setosa\t\tActual: Iris-setosa\t\tAccuracy: 95.24%\tData: (15, 19, 2, 1)\n",
      "Prediction:\tIris-virginica\t\tActual: Iris-virginica\t\tAccuracy: 93.33%\tData: (26, 10, 27, 19)\n",
      "Prediction:\tIris-setosa\t\tActual: Iris-setosa\t\tAccuracy: 93.33%\tData: (7, 14, 6, 5)\n",
      "Prediction:\tIris-setosa\t\tActual: Iris-setosa\t\tAccuracy: 89.52%\tData: (7, 15, 4, 1)\n",
      "Prediction:\tIris-setosa\t\tActual: Iris-setosa\t\tAccuracy: 96.19%\tData: (7, 14, 6, 5)\n",
      "Prediction:\tIris-setosa\t\tActual: Iris-setosa\t\tAccuracy: 95.24%\tData: (7, 9, 6, 1)\n",
      "Prediction:\tIris-setosa\t\tActual: Iris-setosa\t\tAccuracy: 96.19%\tData: (7, 12, 4, 1)\n",
      "Prediction:\tIris-setosa\t\tActual: Iris-setosa\t\tAccuracy: 95.24%\tData: (11, 13, 5, 3)\n",
      "Prediction:\tIris-virginica\t\tActual: Iris-virginica\t\tAccuracy: 97.14%\tData: (26, 10, 27, 19)\n",
      "Prediction:\tIris-virginica\t\tActual: Iris-virginica\t\tAccuracy: 97.14%\tData: (22, 11, 27, 16)\n",
      "Prediction:\tIris-virginica\t\tActual: Iris-versicolor\t\tAccuracy: 92.38%\tData: (27, 11, 23, 10)\n",
      "Prediction:\tIris-virginica\t\tActual: Iris-virginica\t\tAccuracy: 95.24%\tData: (22, 11, 27, 16)\n",
      "Prediction:\tIris-setosa\t\tActual: Iris-setosa\t\tAccuracy: 97.14%\tData: (2, 2, 3, 2)\n",
      "Prediction:\tIris-setosa\t\tActual: Iris-setosa\t\tAccuracy: 93.33%\tData: (1, 8, 4, 1)\n",
      "\n",
      "Highest Accuracy: 100.0%\n",
      "Worst Accuracy: 79.05%\n"
     ]
    }
   ],
   "source": [
    "for result in results:\n",
    "    print(result)\n",
    "    \n",
    "print(f\"\\nHighest Accuracy: {round((best * 100), 2)}%\")\n",
    "print(f\"Worst Accuracy: {round((worst * 100), 2)}%\")"
   ]
  },
  {
   "cell_type": "markdown",
   "metadata": {},
   "source": [
    "# Graphical illustration"
   ]
  },
  {
   "cell_type": "code",
   "execution_count": 86,
   "metadata": {},
   "outputs": [
    {
     "data": {
      "text/plain": [
       "<matplotlib.legend.Legend at 0x7f16f06ac220>"
      ]
     },
     "execution_count": 86,
     "metadata": {},
     "output_type": "execute_result"
    },
    {
     "data": {
      "image/png": "[encoded data removed]",
      "text/plain": [
       "<Figure size 432x288 with 1 Axes>"
      ]
     },
     "metadata": {},
     "output_type": "display_data"
    }
   ],
   "source": [
    "y = data.iloc[0:100, 4].values\n",
    "y = np.where(y == \"Iris-setosa\", -1, 1)\n",
    "\n",
    "X = data.iloc[0:100, [0, 2]].values\n",
    "\n",
    "plt.scatter(X[:50, 0], X[:50, 1], color=\"red\", marker=\"o\", label=\"Setosa\")\n",
    "plt.scatter(X[50:100, 0], X[50:100, 1], color=\"green\", marker=\"x\", label=\"Versicolor\")\n",
    "\n",
    "plt.title(\"Iris Dataset Illustration\")\n",
    "plt.xlabel(\"Sepal length in cm\")\n",
    "plt.ylabel(\"Petal length in cm\")\n",
    "plt.grid(True)\n",
    "plt.legend()\n"
   ]
  },
  {
   "cell_type": "markdown",
   "metadata": {},
   "source": [
    "# 3D Modeling (Not Iris related yet)"
   ]
  },
  {
   "cell_type": "code",
   "execution_count": 87,
   "metadata": {},
   "outputs": [
    {
     "data": {
      "text/plain": [
       "<mpl_toolkits.mplot3d.art3d.Path3DCollection at 0x7f16f02d19a0>"
      ]
     },
     "execution_count": 87,
     "metadata": {},
     "output_type": "execute_result"
    },
    {
     "data": {
      "image/png": "[encoded data removed]",
      "text/plain": [
       "<Figure size 432x288 with 1 Axes>"
      ]
     },
     "metadata": {},
     "output_type": "display_data"
    }
   ],
   "source": [
    "# import random\n",
    "# from mpl_toolkits import mplot3d\n",
    "\n",
    "\n",
    "# x = [random.randrange(0, 9) for _ in range(100)]\n",
    "# y = [random.randrange(0, 9) for _ in range(100)]\n",
    "# z = [random.randrange(0, 9) for _ in range(100)]\n",
    "\n",
    "# fig = plt.figure()\n",
    "# ax = plt.axes(projection=\"3d\")\n",
    "# ax.scatter3D(x, y, z)\n",
    "\n"
   ]
  },
  {
   "cell_type": "markdown",
   "metadata": {},
   "source": [
    "# Perceptron method"
   ]
  },
  {
   "cell_type": "code",
   "execution_count": 88,
   "metadata": {},
   "outputs": [],
   "source": [
    "class Perceptron(object):\n",
    "    def __init__(self, eta=0.01, n_iter=50, random_state=1):\n",
    "        self.eta = eta\n",
    "        self.n_iter = n_iter\n",
    "        self.random_state = random_state\n",
    "    \n",
    "    def fit(self, X, y):\n",
    "        rand = np.random.RandomState(self.random_state)\n",
    "        self.w_ = rand.normal(loc=0.0, scale=0.01, size=1 + X.shape[1])\n",
    "        self.errors_ = []\n",
    "        \n",
    "        for _ in range(self.n_iter):\n",
    "            errors = 0\n",
    "            for xi, target in zip(X, y):\n",
    "                update = self.eta * (target - self.predict(xi))\n",
    "                self.w_[1:] += update * xi\n",
    "                self.w_[0] += update\n",
    "                errors += int(update != 0.0)\n",
    "            self.errors_.append(errors)\n",
    "        return self\n",
    "\n",
    "    def net_input(self, X):\n",
    "        return np.dot(X, self.w_[1:]) + self.w_[0]\n",
    "    \n",
    "    def predict(self, X):\n",
    "        return np.where(self.net_input(X) >= 0.0, 1, -1)"
   ]
  },
  {
   "cell_type": "markdown",
   "metadata": {},
   "source": [
    "# Conversion example; When a neural network reaches the peak of preciseness."
   ]
  },
  {
   "cell_type": "code",
   "execution_count": 89,
   "metadata": {},
   "outputs": [
    {
     "data": {
      "text/plain": [
       "Text(0, 0.5, 'Amount of updates')"
      ]
     },
     "execution_count": 89,
     "metadata": {},
     "output_type": "execute_result"
    },
    {
     "data": {
      "image/png": "[encoded data removed]",
      "text/plain": [
       "<Figure size 432x288 with 1 Axes>"
      ]
     },
     "metadata": {},
     "output_type": "display_data"
    }
   ],
   "source": [
    "ppn = Perceptron(eta=0.1, n_iter=10)\n",
    "ppn.fit(X, y)\n",
    "plt.plot(range(1, len(ppn.errors_) + 1), ppn.errors_, marker=\"o\")\n",
    "plt.xlabel(\"Epochs\")\n",
    "plt.ylabel(\"Amount of updates\")"
   ]
  },
  {
   "cell_type": "markdown",
   "metadata": {},
   "source": [
    "# Convenience function to vizualize decision boundries for 2-dimensional datasets"
   ]
  },
  {
   "cell_type": "code",
   "execution_count": 90,
   "metadata": {},
   "outputs": [
    {
     "name": "stderr",
     "output_type": "stream",
     "text": [
      "<ipython-input-90-c5da0ced147b>:20: UserWarning: You passed a edgecolor/edgecolors ('black') for an unfilled marker ('x').  Matplotlib is ignoring the edgecolor in favor of the facecolor.  This behavior may change in the future.\n",
      "  plt.scatter(x=X[y == cl, 0],\n"
     ]
    },
    {
     "ename": "IndexError",
     "evalue": "tuple index out of range",
     "output_type": "error",
     "traceback": [
      "\u001b[0;31m---------------------------------------------------------------------------\u001b[0m",
      "\u001b[0;31mIndexError\u001b[0m                                Traceback (most recent call last)",
      "\u001b[0;32m<ipython-input-90-c5da0ced147b>\u001b[0m in \u001b[0;36m<module>\u001b[0;34m\u001b[0m\n\u001b[1;32m     26\u001b[0m                     edgecolors=\"black\")\n\u001b[1;32m     27\u001b[0m \u001b[0;34m\u001b[0m\u001b[0m\n\u001b[0;32m---> 28\u001b[0;31m \u001b[0mplot_decision_regions\u001b[0m\u001b[0;34m(\u001b[0m\u001b[0mX\u001b[0m\u001b[0;34m,\u001b[0m \u001b[0my\u001b[0m\u001b[0;34m,\u001b[0m \u001b[0mclassifier\u001b[0m\u001b[0;34m=\u001b[0m\u001b[0mppn\u001b[0m\u001b[0;34m)\u001b[0m\u001b[0;34m\u001b[0m\u001b[0;34m\u001b[0m\u001b[0m\n\u001b[0m\u001b[1;32m     29\u001b[0m \u001b[0mplt\u001b[0m\u001b[0;34m.\u001b[0m\u001b[0mxlabel\u001b[0m\u001b[0;34m(\u001b[0m\u001b[0;34m\"Sepal length in cm\"\u001b[0m\u001b[0;34m)\u001b[0m\u001b[0;34m\u001b[0m\u001b[0;34m\u001b[0m\u001b[0m\n\u001b[1;32m     30\u001b[0m \u001b[0mplt\u001b[0m\u001b[0;34m.\u001b[0m\u001b[0mxlabel\u001b[0m\u001b[0;34m(\u001b[0m\u001b[0;34m\"Petal length in cm\"\u001b[0m\u001b[0;34m)\u001b[0m\u001b[0;34m\u001b[0m\u001b[0;34m\u001b[0m\u001b[0m\n",
      "\u001b[0;32m<ipython-input-90-c5da0ced147b>\u001b[0m in \u001b[0;36mplot_decision_regions\u001b[0;34m(X, y, classifier, resolution)\u001b[0m\n\u001b[1;32m     21\u001b[0m                     \u001b[0my\u001b[0m\u001b[0;34m=\u001b[0m\u001b[0mX\u001b[0m\u001b[0;34m[\u001b[0m\u001b[0my\u001b[0m \u001b[0;34m==\u001b[0m \u001b[0mcl\u001b[0m\u001b[0;34m,\u001b[0m \u001b[0;36m1\u001b[0m\u001b[0;34m]\u001b[0m\u001b[0;34m,\u001b[0m\u001b[0;34m\u001b[0m\u001b[0;34m\u001b[0m\u001b[0m\n\u001b[1;32m     22\u001b[0m                     \u001b[0malpha\u001b[0m\u001b[0;34m=\u001b[0m\u001b[0;36m0.8\u001b[0m\u001b[0;34m,\u001b[0m\u001b[0;34m\u001b[0m\u001b[0;34m\u001b[0m\u001b[0m\n\u001b[0;32m---> 23\u001b[0;31m                     \u001b[0mc\u001b[0m\u001b[0;34m=\u001b[0m\u001b[0mcolors\u001b[0m\u001b[0;34m[\u001b[0m\u001b[0midx\u001b[0m\u001b[0;34m]\u001b[0m\u001b[0;34m,\u001b[0m\u001b[0;34m\u001b[0m\u001b[0;34m\u001b[0m\u001b[0m\n\u001b[0m\u001b[1;32m     24\u001b[0m                     \u001b[0mmarker\u001b[0m\u001b[0;34m=\u001b[0m\u001b[0mmarkers\u001b[0m\u001b[0;34m[\u001b[0m\u001b[0midx\u001b[0m\u001b[0;34m]\u001b[0m\u001b[0;34m,\u001b[0m\u001b[0;34m\u001b[0m\u001b[0;34m\u001b[0m\u001b[0m\n\u001b[1;32m     25\u001b[0m                     \u001b[0mlabel\u001b[0m\u001b[0;34m=\u001b[0m\u001b[0mcl\u001b[0m\u001b[0;34m,\u001b[0m\u001b[0;34m\u001b[0m\u001b[0;34m\u001b[0m\u001b[0m\n",
      "\u001b[0;31mIndexError\u001b[0m: tuple index out of range"
     ]
    },
    {
     "data": {
      "image/png": "[encoded data removed]",
      "text/plain": [
       "<Figure size 432x288 with 1 Axes>"
      ]
     },
     "metadata": {},
     "output_type": "display_data"
    }
   ],
   "source": [
    "from matplotlib.colors import ListedColormap\n",
    "\n",
    "def plot_decision_regions(X, y, classifier, resolution=0.02):\n",
    "    markers = (\"s\", \"x\", \"o\", \"^\", \"v\")\n",
    "    colors = (\"red\", \"blue\", \"lightgreen\", \"gray\", \"cyan\")\n",
    "    cmap = ListedColormap(colors[:len(np.unique(y))])\n",
    "    # Plot decision surface\n",
    "    x1_min, x1_max = X[:, 0].min() - 1, X[:, 0].max() + 1\n",
    "    x2_min, x2_max = X[:, 1].min() - 1, X[:, 1].max() + 1\n",
    "    xx1, xx2 = np.meshgrid(np.arange(x1_min, x1_max, resolution), \n",
    "                           np.arange(x2_min, x2_max, resolution))\n",
    "    Z = classifier.predict(np.array([xx1.ravel(), xx2.ravel()]).T)\n",
    "    Z = Z.reshape(xx1.shape)\n",
    "    plt.contourf(xx1, xx2, Z, alpha=0.3, cmap=cmap)\n",
    "    plt.xlim(xx1.min(), xx1.max())\n",
    "    plt.ylim(xx2.min(), xx2.max())\n",
    "    \n",
    "    # Plot class example\n",
    "    for idx, cl in enumerate(np.unique(y)):\n",
    "        plt.scatter(x=X[y == cl, 0],\n",
    "                    y=X[y == cl, 1],\n",
    "                    alpha=0.8,\n",
    "                    c=colors[idx],\n",
    "                    marker=markers[idx],\n",
    "                    label=cl,\n",
    "                    edgecolors=\"black\")\n",
    "\n",
    "plot_decision_regions(X, y, classifier=ppn)\n",
    "plt.xlabel(\"Sepal length in cm\")\n",
    "plt.xlabel(\"Petal length in cm\")\n",
    "plt.legend(loc=\"upper left\")\n",
    "    "
   ]
  },
  {
   "cell_type": "code",
   "execution_count": null,
   "metadata": {},
   "outputs": [],
   "source": []
  }
 ],
 "metadata": {
  "interpreter": {
   "hash": "814635fff90d4fb7edb7cf7b4efbafc2586e819c8eea62750f0795f97ef3e14f"
  },
  "kernelspec": {
   "display_name": "Python 3.8 - Tensorflow",
   "language": "python",
   "name": "python3"
  },
  "language_info": {
   "codemirror_mode": {
    "name": "ipython",
    "version": 3
   },
   "file_extension": ".py",
   "mimetype": "text/x-python",
   "name": "python",
   "nbconvert_exporter": "python",
   "pygments_lexer": "ipython3",
   "version": "3.8.1"
  },
  "orig_nbformat": 4
 },
 "nbformat": 4,
 "nbformat_minor": 2
}
